{
 "cells": [
  {
   "cell_type": "code",
   "execution_count": 1,
   "id": "16d7175e",
   "metadata": {},
   "outputs": [],
   "source": [
    "import numpy as np\n",
    "import pandas as pd\n",
    "import seaborn as sns\n",
    "import matplotlib.pyplot as plt\n",
    "import seaborn \n",
    "import sklearn\n",
    "from sklearn import tree\n",
    "from sklearn.ensemble import RandomForestClassifier\n",
    "from sklearn.model_selection import GridSearchCV\n",
    "from sklearn import metrics\n",
    "from sklearn.model_selection import train_test_split\n",
    "from sklearn.metrics import roc_auc_score,roc_curve"
   ]
  },
  {
   "cell_type": "code",
   "execution_count": 2,
   "id": "64c82e29",
   "metadata": {},
   "outputs": [
    {
     "name": "stderr",
     "output_type": "stream",
     "text": [
      "C:\\Users\\Arun Sivaji\\Anaconda3\\lib\\site-packages\\IPython\\core\\interactiveshell.py:3165: DtypeWarning: Columns (5) have mixed types.Specify dtype option on import or set low_memory=False.\n",
      "  has_raised = await self.run_ast_nodes(code_ast.body, cell_name,\n"
     ]
    }
   ],
   "source": [
    "df=pd.read_csv(\"training_data.csv\")"
   ]
  },
  {
   "cell_type": "code",
   "execution_count": 3,
   "id": "169d3634",
   "metadata": {},
   "outputs": [
    {
     "data": {
      "text/html": [
       "<div>\n",
       "<style scoped>\n",
       "    .dataframe tbody tr th:only-of-type {\n",
       "        vertical-align: middle;\n",
       "    }\n",
       "\n",
       "    .dataframe tbody tr th {\n",
       "        vertical-align: top;\n",
       "    }\n",
       "\n",
       "    .dataframe thead th {\n",
       "        text-align: right;\n",
       "    }\n",
       "</style>\n",
       "<table border=\"1\" class=\"dataframe\">\n",
       "  <thead>\n",
       "    <tr style=\"text-align: right;\">\n",
       "      <th></th>\n",
       "      <th>ID</th>\n",
       "      <th>Date_Of_Disbursement</th>\n",
       "      <th>Business</th>\n",
       "      <th>Jobs_Reatained</th>\n",
       "      <th>Jobs_Created</th>\n",
       "      <th>Year_Of_Commitment</th>\n",
       "      <th>Guaranteed_Approved _Loan</th>\n",
       "      <th>Borrower_Name</th>\n",
       "      <th>Low_Documentation_Loan</th>\n",
       "      <th>Demography</th>\n",
       "      <th>...</th>\n",
       "      <th>Classification_Code</th>\n",
       "      <th>Loan_Approved_Gross</th>\n",
       "      <th>Gross_Amount_Disbursed</th>\n",
       "      <th>Loan_Term</th>\n",
       "      <th>Commitment_Date</th>\n",
       "      <th>Primary_Loan_Digit</th>\n",
       "      <th>Code_Franchise</th>\n",
       "      <th>Name_Of_Bank</th>\n",
       "      <th>Revolving_Credit_Line</th>\n",
       "      <th>Default</th>\n",
       "    </tr>\n",
       "  </thead>\n",
       "  <tbody>\n",
       "    <tr>\n",
       "      <th>0</th>\n",
       "      <td>0</td>\n",
       "      <td>31-Jul-91</td>\n",
       "      <td>Existing</td>\n",
       "      <td>0</td>\n",
       "      <td>0</td>\n",
       "      <td>1991</td>\n",
       "      <td>Rs.33121600.0</td>\n",
       "      <td>STANDARD PARTS CORPORATION</td>\n",
       "      <td>No</td>\n",
       "      <td>Undefined</td>\n",
       "      <td>...</td>\n",
       "      <td>0</td>\n",
       "      <td>Rs.40640000.0</td>\n",
       "      <td>Rs.40640000.0</td>\n",
       "      <td>126</td>\n",
       "      <td>2-Apr-91</td>\n",
       "      <td>4419763001</td>\n",
       "      <td>1</td>\n",
       "      <td>Axis Bank Ltd.</td>\n",
       "      <td>No</td>\n",
       "      <td>0</td>\n",
       "    </tr>\n",
       "    <tr>\n",
       "      <th>1</th>\n",
       "      <td>1</td>\n",
       "      <td>30-Apr-06</td>\n",
       "      <td>New</td>\n",
       "      <td>0</td>\n",
       "      <td>6</td>\n",
       "      <td>2006</td>\n",
       "      <td>Rs.32735520.0</td>\n",
       "      <td>FRANK &amp; KERI AMESTOY</td>\n",
       "      <td>No</td>\n",
       "      <td>Urban</td>\n",
       "      <td>...</td>\n",
       "      <td>451120</td>\n",
       "      <td>Rs.43647360.0</td>\n",
       "      <td>Rs.43647360.0</td>\n",
       "      <td>123</td>\n",
       "      <td>10-Apr-06</td>\n",
       "      <td>1709796003</td>\n",
       "      <td>1</td>\n",
       "      <td>Bandhan Bank Ltd.</td>\n",
       "      <td>0</td>\n",
       "      <td>1</td>\n",
       "    </tr>\n",
       "    <tr>\n",
       "      <th>2</th>\n",
       "      <td>2</td>\n",
       "      <td>30-Jun-04</td>\n",
       "      <td>Existing</td>\n",
       "      <td>4</td>\n",
       "      <td>0</td>\n",
       "      <td>2004</td>\n",
       "      <td>Rs.1422400.0</td>\n",
       "      <td>TELECOMMQC L L C</td>\n",
       "      <td>No</td>\n",
       "      <td>Urban</td>\n",
       "      <td>...</td>\n",
       "      <td>541618</td>\n",
       "      <td>Rs.2844800.0</td>\n",
       "      <td>Rs.5961400.32</td>\n",
       "      <td>90</td>\n",
       "      <td>25-May-04</td>\n",
       "      <td>7464754008</td>\n",
       "      <td>1</td>\n",
       "      <td>CSB Bank Limited</td>\n",
       "      <td>Yes</td>\n",
       "      <td>0</td>\n",
       "    </tr>\n",
       "    <tr>\n",
       "      <th>3</th>\n",
       "      <td>3</td>\n",
       "      <td>31-Jan-06</td>\n",
       "      <td>New</td>\n",
       "      <td>9</td>\n",
       "      <td>1</td>\n",
       "      <td>2006</td>\n",
       "      <td>Rs.2032000.0</td>\n",
       "      <td>K &amp; A AUTOMOTIVE, INC. DBA MUF</td>\n",
       "      <td>No</td>\n",
       "      <td>Urban</td>\n",
       "      <td>...</td>\n",
       "      <td>811112</td>\n",
       "      <td>Rs.4064000.0</td>\n",
       "      <td>Rs.4064000.0</td>\n",
       "      <td>126</td>\n",
       "      <td>21-Dec-05</td>\n",
       "      <td>1588745006</td>\n",
       "      <td>0</td>\n",
       "      <td>City Union Bank Ltd.</td>\n",
       "      <td>Yes</td>\n",
       "      <td>0</td>\n",
       "    </tr>\n",
       "    <tr>\n",
       "      <th>4</th>\n",
       "      <td>4</td>\n",
       "      <td>31-Dec-04</td>\n",
       "      <td>Existing</td>\n",
       "      <td>4</td>\n",
       "      <td>0</td>\n",
       "      <td>2005</td>\n",
       "      <td>Rs.22981920.0</td>\n",
       "      <td>SUNBEAM DELI</td>\n",
       "      <td>No</td>\n",
       "      <td>Urban</td>\n",
       "      <td>...</td>\n",
       "      <td>722211</td>\n",
       "      <td>Rs.30642560.0</td>\n",
       "      <td>Rs.30642560.0</td>\n",
       "      <td>104</td>\n",
       "      <td>2-Nov-04</td>\n",
       "      <td>8037734002</td>\n",
       "      <td>1</td>\n",
       "      <td>DCB Bank Ltd.</td>\n",
       "      <td>0</td>\n",
       "      <td>1</td>\n",
       "    </tr>\n",
       "  </tbody>\n",
       "</table>\n",
       "<p>5 rows × 26 columns</p>\n",
       "</div>"
      ],
      "text/plain": [
       "   ID Date_Of_Disbursement  Business  Jobs_Reatained  Jobs_Created   \\\n",
       "0   0            31-Jul-91  Existing               0              0   \n",
       "1   1            30-Apr-06       New               0              6   \n",
       "2   2            30-Jun-04  Existing               4              0   \n",
       "3   3            31-Jan-06       New               9              1   \n",
       "4   4            31-Dec-04  Existing               4              0   \n",
       "\n",
       "  Year_Of_Commitment  Guaranteed_Approved _Loan  \\\n",
       "0                1991             Rs.33121600.0   \n",
       "1                2006             Rs.32735520.0   \n",
       "2                2004              Rs.1422400.0   \n",
       "3                2006              Rs.2032000.0   \n",
       "4                2005             Rs.22981920.0   \n",
       "\n",
       "                   Borrower_Name  Low_Documentation_Loan Demography  ...  \\\n",
       "0      STANDARD PARTS CORPORATION                     No  Undefined  ...   \n",
       "1            FRANK & KERI AMESTOY                     No      Urban  ...   \n",
       "2                TELECOMMQC L L C                     No      Urban  ...   \n",
       "3  K & A AUTOMOTIVE, INC. DBA MUF                     No      Urban  ...   \n",
       "4                    SUNBEAM DELI                     No      Urban  ...   \n",
       "\n",
       "  Classification_Code  Loan_Approved_Gross Gross_Amount_Disbursed   Loan_Term  \\\n",
       "0                    0       Rs.40640000.0            Rs.40640000.0       126   \n",
       "1               451120       Rs.43647360.0            Rs.43647360.0       123   \n",
       "2               541618        Rs.2844800.0            Rs.5961400.32        90   \n",
       "3               811112        Rs.4064000.0             Rs.4064000.0       126   \n",
       "4               722211       Rs.30642560.0            Rs.30642560.0       104   \n",
       "\n",
       "  Commitment_Date  Primary_Loan_Digit  Code_Franchise          Name_Of_Bank  \\\n",
       "0        2-Apr-91          4419763001               1        Axis Bank Ltd.   \n",
       "1       10-Apr-06          1709796003               1     Bandhan Bank Ltd.   \n",
       "2       25-May-04          7464754008               1      CSB Bank Limited   \n",
       "3       21-Dec-05          1588745006               0  City Union Bank Ltd.   \n",
       "4        2-Nov-04          8037734002               1         DCB Bank Ltd.   \n",
       "\n",
       "  Revolving_Credit_Line  Default  \n",
       "0                    No        0  \n",
       "1                     0        1  \n",
       "2                   Yes        0  \n",
       "3                   Yes        0  \n",
       "4                     0        1  \n",
       "\n",
       "[5 rows x 26 columns]"
      ]
     },
     "execution_count": 3,
     "metadata": {},
     "output_type": "execute_result"
    }
   ],
   "source": [
    "df.head()"
   ]
  },
  {
   "cell_type": "code",
   "execution_count": 4,
   "id": "8d89a357",
   "metadata": {},
   "outputs": [
    {
     "name": "stdout",
     "output_type": "stream",
     "text": [
      "<class 'pandas.core.frame.DataFrame'>\n",
      "RangeIndex: 105000 entries, 0 to 104999\n",
      "Data columns (total 26 columns):\n",
      " #   Column                     Non-Null Count   Dtype \n",
      "---  ------                     --------------   ----- \n",
      " 0   ID                         105000 non-null  int64 \n",
      " 1   Date_Of_Disbursement       104765 non-null  object\n",
      " 2   Business                   104985 non-null  object\n",
      " 3   Jobs_Reatained             105000 non-null  int64 \n",
      " 4   Jobs_Created               105000 non-null  int64 \n",
      " 5   Year_Of_Commitment         105000 non-null  object\n",
      " 6   Guaranteed_Approved _Loan  105000 non-null  object\n",
      " 7   Borrower_Name              104997 non-null  object\n",
      " 8   Low_Documentation_Loan     104633 non-null  object\n",
      " 9   Demography                 105000 non-null  object\n",
      " 10  State_Of_Bank              105000 non-null  object\n",
      " 11  ChargedOff_Amount          105000 non-null  object\n",
      " 12  Borrower_City              105000 non-null  object\n",
      " 13  Borrower_State             105000 non-null  object\n",
      " 14  Gross_Amount_Balance       105000 non-null  object\n",
      " 15  Count_Employees            105000 non-null  int64 \n",
      " 16  Classification_Code        105000 non-null  int64 \n",
      " 17  Loan_Approved_Gross        105000 non-null  object\n",
      " 18  Gross_Amount_Disbursed     105000 non-null  object\n",
      " 19  Loan_Term                  105000 non-null  int64 \n",
      " 20  Commitment_Date            105000 non-null  object\n",
      " 21  Primary_Loan_Digit         105000 non-null  int64 \n",
      " 22  Code_Franchise             105000 non-null  int64 \n",
      " 23  Name_Of_Bank               105000 non-null  object\n",
      " 24  Revolving_Credit_Line      104509 non-null  object\n",
      " 25  Default                    105000 non-null  int64 \n",
      "dtypes: int64(9), object(17)\n",
      "memory usage: 20.8+ MB\n"
     ]
    }
   ],
   "source": [
    "df.info()"
   ]
  },
  {
   "cell_type": "code",
   "execution_count": 5,
   "id": "43185c07",
   "metadata": {},
   "outputs": [
    {
     "data": {
      "text/plain": [
       "ID                             0\n",
       "Date_Of_Disbursement         235\n",
       "Business                      15\n",
       "Jobs_Reatained                 0\n",
       "Jobs_Created                   0\n",
       "Year_Of_Commitment             0\n",
       "Guaranteed_Approved _Loan      0\n",
       "Borrower_Name                  3\n",
       "Low_Documentation_Loan       367\n",
       "Demography                     0\n",
       "State_Of_Bank                  0\n",
       "ChargedOff_Amount              0\n",
       "Borrower_City                  0\n",
       "Borrower_State                 0\n",
       "Gross_Amount_Balance           0\n",
       "Count_Employees                0\n",
       "Classification_Code            0\n",
       "Loan_Approved_Gross            0\n",
       "Gross_Amount_Disbursed         0\n",
       "Loan_Term                      0\n",
       "Commitment_Date                0\n",
       "Primary_Loan_Digit             0\n",
       "Code_Franchise                 0\n",
       "Name_Of_Bank                   0\n",
       "Revolving_Credit_Line        491\n",
       "Default                        0\n",
       "dtype: int64"
      ]
     },
     "execution_count": 5,
     "metadata": {},
     "output_type": "execute_result"
    }
   ],
   "source": [
    "df.isnull().sum()"
   ]
  },
  {
   "cell_type": "code",
   "execution_count": 6,
   "id": "0ed5858c",
   "metadata": {},
   "outputs": [
    {
     "data": {
      "text/plain": [
       "ID                            int64\n",
       "Date_Of_Disbursement         object\n",
       "Business                     object\n",
       "Jobs_Reatained                int64\n",
       "Jobs_Created                  int64\n",
       "Year_Of_Commitment           object\n",
       "Guaranteed_Approved _Loan    object\n",
       "Borrower_Name                object\n",
       "Low_Documentation_Loan       object\n",
       "Demography                   object\n",
       "State_Of_Bank                object\n",
       "ChargedOff_Amount            object\n",
       "Borrower_City                object\n",
       "Borrower_State               object\n",
       "Gross_Amount_Balance         object\n",
       "Count_Employees               int64\n",
       "Classification_Code           int64\n",
       "Loan_Approved_Gross          object\n",
       "Gross_Amount_Disbursed       object\n",
       "Loan_Term                     int64\n",
       "Commitment_Date              object\n",
       "Primary_Loan_Digit            int64\n",
       "Code_Franchise                int64\n",
       "Name_Of_Bank                 object\n",
       "Revolving_Credit_Line        object\n",
       "Default                       int64\n",
       "dtype: object"
      ]
     },
     "execution_count": 6,
     "metadata": {},
     "output_type": "execute_result"
    }
   ],
   "source": [
    "df.dtypes"
   ]
  },
  {
   "cell_type": "code",
   "execution_count": 7,
   "id": "3052f9d4",
   "metadata": {},
   "outputs": [
    {
     "data": {
      "text/plain": [
       "(105000, 26)"
      ]
     },
     "execution_count": 7,
     "metadata": {},
     "output_type": "execute_result"
    }
   ],
   "source": [
    "df.shape"
   ]
  },
  {
   "cell_type": "code",
   "execution_count": 8,
   "id": "f8a92885",
   "metadata": {},
   "outputs": [
    {
     "data": {
      "text/html": [
       "<div>\n",
       "<style scoped>\n",
       "    .dataframe tbody tr th:only-of-type {\n",
       "        vertical-align: middle;\n",
       "    }\n",
       "\n",
       "    .dataframe tbody tr th {\n",
       "        vertical-align: top;\n",
       "    }\n",
       "\n",
       "    .dataframe thead th {\n",
       "        text-align: right;\n",
       "    }\n",
       "</style>\n",
       "<table border=\"1\" class=\"dataframe\">\n",
       "  <thead>\n",
       "    <tr style=\"text-align: right;\">\n",
       "      <th></th>\n",
       "      <th>count</th>\n",
       "      <th>unique</th>\n",
       "      <th>top</th>\n",
       "      <th>freq</th>\n",
       "      <th>mean</th>\n",
       "      <th>std</th>\n",
       "      <th>min</th>\n",
       "      <th>25%</th>\n",
       "      <th>50%</th>\n",
       "      <th>75%</th>\n",
       "      <th>max</th>\n",
       "    </tr>\n",
       "  </thead>\n",
       "  <tbody>\n",
       "    <tr>\n",
       "      <th>ID</th>\n",
       "      <td>105000.0</td>\n",
       "      <td>NaN</td>\n",
       "      <td>NaN</td>\n",
       "      <td>NaN</td>\n",
       "      <td>52499.5</td>\n",
       "      <td>30311.03347</td>\n",
       "      <td>0.0</td>\n",
       "      <td>26249.75</td>\n",
       "      <td>52499.5</td>\n",
       "      <td>78749.25</td>\n",
       "      <td>104999.0</td>\n",
       "    </tr>\n",
       "    <tr>\n",
       "      <th>Date_Of_Disbursement</th>\n",
       "      <td>104765</td>\n",
       "      <td>3505</td>\n",
       "      <td>31-Jul-95</td>\n",
       "      <td>1111</td>\n",
       "      <td>NaN</td>\n",
       "      <td>NaN</td>\n",
       "      <td>NaN</td>\n",
       "      <td>NaN</td>\n",
       "      <td>NaN</td>\n",
       "      <td>NaN</td>\n",
       "      <td>NaN</td>\n",
       "    </tr>\n",
       "    <tr>\n",
       "      <th>Business</th>\n",
       "      <td>104985</td>\n",
       "      <td>3</td>\n",
       "      <td>Existing</td>\n",
       "      <td>75091</td>\n",
       "      <td>NaN</td>\n",
       "      <td>NaN</td>\n",
       "      <td>NaN</td>\n",
       "      <td>NaN</td>\n",
       "      <td>NaN</td>\n",
       "      <td>NaN</td>\n",
       "      <td>NaN</td>\n",
       "    </tr>\n",
       "    <tr>\n",
       "      <th>Jobs_Reatained</th>\n",
       "      <td>105000.0</td>\n",
       "      <td>NaN</td>\n",
       "      <td>NaN</td>\n",
       "      <td>NaN</td>\n",
       "      <td>12.688648</td>\n",
       "      <td>270.544185</td>\n",
       "      <td>0.0</td>\n",
       "      <td>0.0</td>\n",
       "      <td>1.0</td>\n",
       "      <td>4.0</td>\n",
       "      <td>8800.0</td>\n",
       "    </tr>\n",
       "    <tr>\n",
       "      <th>Jobs_Created</th>\n",
       "      <td>105000.0</td>\n",
       "      <td>NaN</td>\n",
       "      <td>NaN</td>\n",
       "      <td>NaN</td>\n",
       "      <td>10.379248</td>\n",
       "      <td>270.340849</td>\n",
       "      <td>0.0</td>\n",
       "      <td>0.0</td>\n",
       "      <td>0.0</td>\n",
       "      <td>1.0</td>\n",
       "      <td>8800.0</td>\n",
       "    </tr>\n",
       "    <tr>\n",
       "      <th>Year_Of_Commitment</th>\n",
       "      <td>105000</td>\n",
       "      <td>91</td>\n",
       "      <td>2007</td>\n",
       "      <td>6769</td>\n",
       "      <td>NaN</td>\n",
       "      <td>NaN</td>\n",
       "      <td>NaN</td>\n",
       "      <td>NaN</td>\n",
       "      <td>NaN</td>\n",
       "      <td>NaN</td>\n",
       "      <td>NaN</td>\n",
       "    </tr>\n",
       "    <tr>\n",
       "      <th>Guaranteed_Approved _Loan</th>\n",
       "      <td>105000</td>\n",
       "      <td>10138</td>\n",
       "      <td>Rs.2032000.0</td>\n",
       "      <td>6464</td>\n",
       "      <td>NaN</td>\n",
       "      <td>NaN</td>\n",
       "      <td>NaN</td>\n",
       "      <td>NaN</td>\n",
       "      <td>NaN</td>\n",
       "      <td>NaN</td>\n",
       "      <td>NaN</td>\n",
       "    </tr>\n",
       "    <tr>\n",
       "      <th>Borrower_Name</th>\n",
       "      <td>104997</td>\n",
       "      <td>101068</td>\n",
       "      <td>SUBWAY</td>\n",
       "      <td>147</td>\n",
       "      <td>NaN</td>\n",
       "      <td>NaN</td>\n",
       "      <td>NaN</td>\n",
       "      <td>NaN</td>\n",
       "      <td>NaN</td>\n",
       "      <td>NaN</td>\n",
       "      <td>NaN</td>\n",
       "    </tr>\n",
       "    <tr>\n",
       "      <th>Low_Documentation_Loan</th>\n",
       "      <td>104633</td>\n",
       "      <td>7</td>\n",
       "      <td>No</td>\n",
       "      <td>92135</td>\n",
       "      <td>NaN</td>\n",
       "      <td>NaN</td>\n",
       "      <td>NaN</td>\n",
       "      <td>NaN</td>\n",
       "      <td>NaN</td>\n",
       "      <td>NaN</td>\n",
       "      <td>NaN</td>\n",
       "    </tr>\n",
       "    <tr>\n",
       "      <th>Demography</th>\n",
       "      <td>105000</td>\n",
       "      <td>3</td>\n",
       "      <td>Urban</td>\n",
       "      <td>57598</td>\n",
       "      <td>NaN</td>\n",
       "      <td>NaN</td>\n",
       "      <td>NaN</td>\n",
       "      <td>NaN</td>\n",
       "      <td>NaN</td>\n",
       "      <td>NaN</td>\n",
       "      <td>NaN</td>\n",
       "    </tr>\n",
       "    <tr>\n",
       "      <th>State_Of_Bank</th>\n",
       "      <td>105000</td>\n",
       "      <td>34</td>\n",
       "      <td>TR</td>\n",
       "      <td>15552</td>\n",
       "      <td>NaN</td>\n",
       "      <td>NaN</td>\n",
       "      <td>NaN</td>\n",
       "      <td>NaN</td>\n",
       "      <td>NaN</td>\n",
       "      <td>NaN</td>\n",
       "      <td>NaN</td>\n",
       "    </tr>\n",
       "    <tr>\n",
       "      <th>ChargedOff_Amount</th>\n",
       "      <td>105000</td>\n",
       "      <td>23059</td>\n",
       "      <td>Rs.0.0</td>\n",
       "      <td>75515</td>\n",
       "      <td>NaN</td>\n",
       "      <td>NaN</td>\n",
       "      <td>NaN</td>\n",
       "      <td>NaN</td>\n",
       "      <td>NaN</td>\n",
       "      <td>NaN</td>\n",
       "      <td>NaN</td>\n",
       "    </tr>\n",
       "    <tr>\n",
       "      <th>Borrower_City</th>\n",
       "      <td>105000</td>\n",
       "      <td>1193</td>\n",
       "      <td>Jhansi</td>\n",
       "      <td>1504</td>\n",
       "      <td>NaN</td>\n",
       "      <td>NaN</td>\n",
       "      <td>NaN</td>\n",
       "      <td>NaN</td>\n",
       "      <td>NaN</td>\n",
       "      <td>NaN</td>\n",
       "      <td>NaN</td>\n",
       "    </tr>\n",
       "    <tr>\n",
       "      <th>Borrower_State</th>\n",
       "      <td>105000</td>\n",
       "      <td>41</td>\n",
       "      <td>Maharashtra</td>\n",
       "      <td>11699</td>\n",
       "      <td>NaN</td>\n",
       "      <td>NaN</td>\n",
       "      <td>NaN</td>\n",
       "      <td>NaN</td>\n",
       "      <td>NaN</td>\n",
       "      <td>NaN</td>\n",
       "      <td>NaN</td>\n",
       "    </tr>\n",
       "    <tr>\n",
       "      <th>Gross_Amount_Balance</th>\n",
       "      <td>105000</td>\n",
       "      <td>3</td>\n",
       "      <td>Rs.0.0</td>\n",
       "      <td>104998</td>\n",
       "      <td>NaN</td>\n",
       "      <td>NaN</td>\n",
       "      <td>NaN</td>\n",
       "      <td>NaN</td>\n",
       "      <td>NaN</td>\n",
       "      <td>NaN</td>\n",
       "      <td>NaN</td>\n",
       "    </tr>\n",
       "    <tr>\n",
       "      <th>Count_Employees</th>\n",
       "      <td>105000.0</td>\n",
       "      <td>NaN</td>\n",
       "      <td>NaN</td>\n",
       "      <td>NaN</td>\n",
       "      <td>9.904248</td>\n",
       "      <td>58.157056</td>\n",
       "      <td>0.0</td>\n",
       "      <td>2.0</td>\n",
       "      <td>4.0</td>\n",
       "      <td>9.0</td>\n",
       "      <td>7200.0</td>\n",
       "    </tr>\n",
       "    <tr>\n",
       "      <th>Classification_Code</th>\n",
       "      <td>105000.0</td>\n",
       "      <td>NaN</td>\n",
       "      <td>NaN</td>\n",
       "      <td>NaN</td>\n",
       "      <td>405918.304276</td>\n",
       "      <td>260335.963766</td>\n",
       "      <td>0.0</td>\n",
       "      <td>236115.0</td>\n",
       "      <td>447110.0</td>\n",
       "      <td>561740.0</td>\n",
       "      <td>928120.0</td>\n",
       "    </tr>\n",
       "    <tr>\n",
       "      <th>Loan_Approved_Gross</th>\n",
       "      <td>105000</td>\n",
       "      <td>6218</td>\n",
       "      <td>Rs.4064000.0</td>\n",
       "      <td>8708</td>\n",
       "      <td>NaN</td>\n",
       "      <td>NaN</td>\n",
       "      <td>NaN</td>\n",
       "      <td>NaN</td>\n",
       "      <td>NaN</td>\n",
       "      <td>NaN</td>\n",
       "      <td>NaN</td>\n",
       "    </tr>\n",
       "    <tr>\n",
       "      <th>Gross_Amount_Disbursed</th>\n",
       "      <td>105000</td>\n",
       "      <td>23443</td>\n",
       "      <td>Rs.4064000.0</td>\n",
       "      <td>5342</td>\n",
       "      <td>NaN</td>\n",
       "      <td>NaN</td>\n",
       "      <td>NaN</td>\n",
       "      <td>NaN</td>\n",
       "      <td>NaN</td>\n",
       "      <td>NaN</td>\n",
       "      <td>NaN</td>\n",
       "    </tr>\n",
       "    <tr>\n",
       "      <th>Loan_Term</th>\n",
       "      <td>105000.0</td>\n",
       "      <td>NaN</td>\n",
       "      <td>NaN</td>\n",
       "      <td>NaN</td>\n",
       "      <td>156.438362</td>\n",
       "      <td>116.412721</td>\n",
       "      <td>0.0</td>\n",
       "      <td>90.0</td>\n",
       "      <td>126.0</td>\n",
       "      <td>180.0</td>\n",
       "      <td>692.0</td>\n",
       "    </tr>\n",
       "    <tr>\n",
       "      <th>Commitment_Date</th>\n",
       "      <td>105000</td>\n",
       "      <td>7719</td>\n",
       "      <td>30-Jan-04</td>\n",
       "      <td>128</td>\n",
       "      <td>NaN</td>\n",
       "      <td>NaN</td>\n",
       "      <td>NaN</td>\n",
       "      <td>NaN</td>\n",
       "      <td>NaN</td>\n",
       "      <td>NaN</td>\n",
       "      <td>NaN</td>\n",
       "    </tr>\n",
       "    <tr>\n",
       "      <th>Primary_Loan_Digit</th>\n",
       "      <td>105000.0</td>\n",
       "      <td>NaN</td>\n",
       "      <td>NaN</td>\n",
       "      <td>NaN</td>\n",
       "      <td>4661622163.716219</td>\n",
       "      <td>2546598534.836645</td>\n",
       "      <td>1000034009.0</td>\n",
       "      <td>2478163259.25</td>\n",
       "      <td>4119823502.0</td>\n",
       "      <td>6760484004.5</td>\n",
       "      <td>9996003010.0</td>\n",
       "    </tr>\n",
       "    <tr>\n",
       "      <th>Code_Franchise</th>\n",
       "      <td>105000.0</td>\n",
       "      <td>NaN</td>\n",
       "      <td>NaN</td>\n",
       "      <td>NaN</td>\n",
       "      <td>2707.201638</td>\n",
       "      <td>12660.60909</td>\n",
       "      <td>0.0</td>\n",
       "      <td>0.0</td>\n",
       "      <td>1.0</td>\n",
       "      <td>1.0</td>\n",
       "      <td>92006.0</td>\n",
       "    </tr>\n",
       "    <tr>\n",
       "      <th>Name_Of_Bank</th>\n",
       "      <td>105000</td>\n",
       "      <td>143</td>\n",
       "      <td>ICICI Bank Ltd.</td>\n",
       "      <td>11215</td>\n",
       "      <td>NaN</td>\n",
       "      <td>NaN</td>\n",
       "      <td>NaN</td>\n",
       "      <td>NaN</td>\n",
       "      <td>NaN</td>\n",
       "      <td>NaN</td>\n",
       "      <td>NaN</td>\n",
       "    </tr>\n",
       "    <tr>\n",
       "      <th>Revolving_Credit_Line</th>\n",
       "      <td>104509</td>\n",
       "      <td>11</td>\n",
       "      <td>No</td>\n",
       "      <td>48122</td>\n",
       "      <td>NaN</td>\n",
       "      <td>NaN</td>\n",
       "      <td>NaN</td>\n",
       "      <td>NaN</td>\n",
       "      <td>NaN</td>\n",
       "      <td>NaN</td>\n",
       "      <td>NaN</td>\n",
       "    </tr>\n",
       "    <tr>\n",
       "      <th>Default</th>\n",
       "      <td>105000.0</td>\n",
       "      <td>NaN</td>\n",
       "      <td>NaN</td>\n",
       "      <td>NaN</td>\n",
       "      <td>0.277181</td>\n",
       "      <td>0.447609</td>\n",
       "      <td>0.0</td>\n",
       "      <td>0.0</td>\n",
       "      <td>0.0</td>\n",
       "      <td>1.0</td>\n",
       "      <td>1.0</td>\n",
       "    </tr>\n",
       "  </tbody>\n",
       "</table>\n",
       "</div>"
      ],
      "text/plain": [
       "                              count  unique              top    freq  \\\n",
       "ID                         105000.0     NaN              NaN     NaN   \n",
       "Date_Of_Disbursement         104765    3505        31-Jul-95    1111   \n",
       "Business                     104985       3         Existing   75091   \n",
       "Jobs_Reatained             105000.0     NaN              NaN     NaN   \n",
       "Jobs_Created               105000.0     NaN              NaN     NaN   \n",
       "Year_Of_Commitment           105000      91             2007    6769   \n",
       "Guaranteed_Approved _Loan    105000   10138     Rs.2032000.0    6464   \n",
       "Borrower_Name                104997  101068           SUBWAY     147   \n",
       "Low_Documentation_Loan       104633       7               No   92135   \n",
       "Demography                   105000       3            Urban   57598   \n",
       "State_Of_Bank                105000      34               TR   15552   \n",
       "ChargedOff_Amount            105000   23059           Rs.0.0   75515   \n",
       "Borrower_City                105000    1193           Jhansi    1504   \n",
       "Borrower_State               105000      41      Maharashtra   11699   \n",
       "Gross_Amount_Balance         105000       3           Rs.0.0  104998   \n",
       "Count_Employees            105000.0     NaN              NaN     NaN   \n",
       "Classification_Code        105000.0     NaN              NaN     NaN   \n",
       "Loan_Approved_Gross          105000    6218     Rs.4064000.0    8708   \n",
       "Gross_Amount_Disbursed       105000   23443     Rs.4064000.0    5342   \n",
       "Loan_Term                  105000.0     NaN              NaN     NaN   \n",
       "Commitment_Date              105000    7719        30-Jan-04     128   \n",
       "Primary_Loan_Digit         105000.0     NaN              NaN     NaN   \n",
       "Code_Franchise             105000.0     NaN              NaN     NaN   \n",
       "Name_Of_Bank                 105000     143  ICICI Bank Ltd.   11215   \n",
       "Revolving_Credit_Line        104509      11               No   48122   \n",
       "Default                    105000.0     NaN              NaN     NaN   \n",
       "\n",
       "                                        mean                std           min  \\\n",
       "ID                                   52499.5        30311.03347           0.0   \n",
       "Date_Of_Disbursement                     NaN                NaN           NaN   \n",
       "Business                                 NaN                NaN           NaN   \n",
       "Jobs_Reatained                     12.688648         270.544185           0.0   \n",
       "Jobs_Created                       10.379248         270.340849           0.0   \n",
       "Year_Of_Commitment                       NaN                NaN           NaN   \n",
       "Guaranteed_Approved _Loan                NaN                NaN           NaN   \n",
       "Borrower_Name                            NaN                NaN           NaN   \n",
       "Low_Documentation_Loan                   NaN                NaN           NaN   \n",
       "Demography                               NaN                NaN           NaN   \n",
       "State_Of_Bank                            NaN                NaN           NaN   \n",
       "ChargedOff_Amount                        NaN                NaN           NaN   \n",
       "Borrower_City                            NaN                NaN           NaN   \n",
       "Borrower_State                           NaN                NaN           NaN   \n",
       "Gross_Amount_Balance                     NaN                NaN           NaN   \n",
       "Count_Employees                     9.904248          58.157056           0.0   \n",
       "Classification_Code            405918.304276      260335.963766           0.0   \n",
       "Loan_Approved_Gross                      NaN                NaN           NaN   \n",
       "Gross_Amount_Disbursed                   NaN                NaN           NaN   \n",
       "Loan_Term                         156.438362         116.412721           0.0   \n",
       "Commitment_Date                          NaN                NaN           NaN   \n",
       "Primary_Loan_Digit         4661622163.716219  2546598534.836645  1000034009.0   \n",
       "Code_Franchise                   2707.201638        12660.60909           0.0   \n",
       "Name_Of_Bank                             NaN                NaN           NaN   \n",
       "Revolving_Credit_Line                    NaN                NaN           NaN   \n",
       "Default                             0.277181           0.447609           0.0   \n",
       "\n",
       "                                     25%           50%           75%  \\\n",
       "ID                              26249.75       52499.5      78749.25   \n",
       "Date_Of_Disbursement                 NaN           NaN           NaN   \n",
       "Business                             NaN           NaN           NaN   \n",
       "Jobs_Reatained                       0.0           1.0           4.0   \n",
       "Jobs_Created                         0.0           0.0           1.0   \n",
       "Year_Of_Commitment                   NaN           NaN           NaN   \n",
       "Guaranteed_Approved _Loan            NaN           NaN           NaN   \n",
       "Borrower_Name                        NaN           NaN           NaN   \n",
       "Low_Documentation_Loan               NaN           NaN           NaN   \n",
       "Demography                           NaN           NaN           NaN   \n",
       "State_Of_Bank                        NaN           NaN           NaN   \n",
       "ChargedOff_Amount                    NaN           NaN           NaN   \n",
       "Borrower_City                        NaN           NaN           NaN   \n",
       "Borrower_State                       NaN           NaN           NaN   \n",
       "Gross_Amount_Balance                 NaN           NaN           NaN   \n",
       "Count_Employees                      2.0           4.0           9.0   \n",
       "Classification_Code             236115.0      447110.0      561740.0   \n",
       "Loan_Approved_Gross                  NaN           NaN           NaN   \n",
       "Gross_Amount_Disbursed               NaN           NaN           NaN   \n",
       "Loan_Term                           90.0         126.0         180.0   \n",
       "Commitment_Date                      NaN           NaN           NaN   \n",
       "Primary_Loan_Digit         2478163259.25  4119823502.0  6760484004.5   \n",
       "Code_Franchise                       0.0           1.0           1.0   \n",
       "Name_Of_Bank                         NaN           NaN           NaN   \n",
       "Revolving_Credit_Line                NaN           NaN           NaN   \n",
       "Default                              0.0           0.0           1.0   \n",
       "\n",
       "                                    max  \n",
       "ID                             104999.0  \n",
       "Date_Of_Disbursement                NaN  \n",
       "Business                            NaN  \n",
       "Jobs_Reatained                   8800.0  \n",
       "Jobs_Created                     8800.0  \n",
       "Year_Of_Commitment                  NaN  \n",
       "Guaranteed_Approved _Loan           NaN  \n",
       "Borrower_Name                       NaN  \n",
       "Low_Documentation_Loan              NaN  \n",
       "Demography                          NaN  \n",
       "State_Of_Bank                       NaN  \n",
       "ChargedOff_Amount                   NaN  \n",
       "Borrower_City                       NaN  \n",
       "Borrower_State                      NaN  \n",
       "Gross_Amount_Balance                NaN  \n",
       "Count_Employees                  7200.0  \n",
       "Classification_Code            928120.0  \n",
       "Loan_Approved_Gross                 NaN  \n",
       "Gross_Amount_Disbursed              NaN  \n",
       "Loan_Term                         692.0  \n",
       "Commitment_Date                     NaN  \n",
       "Primary_Loan_Digit         9996003010.0  \n",
       "Code_Franchise                  92006.0  \n",
       "Name_Of_Bank                        NaN  \n",
       "Revolving_Credit_Line               NaN  \n",
       "Default                             1.0  "
      ]
     },
     "execution_count": 8,
     "metadata": {},
     "output_type": "execute_result"
    }
   ],
   "source": [
    "df.describe(include=\"all\").T"
   ]
  },
  {
   "cell_type": "code",
   "execution_count": 9,
   "id": "c0139431",
   "metadata": {},
   "outputs": [
    {
     "name": "stdout",
     "output_type": "stream",
     "text": [
      "Total no of duplicate values = 0\n"
     ]
    },
    {
     "data": {
      "text/html": [
       "<div>\n",
       "<style scoped>\n",
       "    .dataframe tbody tr th:only-of-type {\n",
       "        vertical-align: middle;\n",
       "    }\n",
       "\n",
       "    .dataframe tbody tr th {\n",
       "        vertical-align: top;\n",
       "    }\n",
       "\n",
       "    .dataframe thead th {\n",
       "        text-align: right;\n",
       "    }\n",
       "</style>\n",
       "<table border=\"1\" class=\"dataframe\">\n",
       "  <thead>\n",
       "    <tr style=\"text-align: right;\">\n",
       "      <th></th>\n",
       "      <th>ID</th>\n",
       "      <th>Date_Of_Disbursement</th>\n",
       "      <th>Business</th>\n",
       "      <th>Jobs_Reatained</th>\n",
       "      <th>Jobs_Created</th>\n",
       "      <th>Year_Of_Commitment</th>\n",
       "      <th>Guaranteed_Approved _Loan</th>\n",
       "      <th>Borrower_Name</th>\n",
       "      <th>Low_Documentation_Loan</th>\n",
       "      <th>Demography</th>\n",
       "      <th>...</th>\n",
       "      <th>Classification_Code</th>\n",
       "      <th>Loan_Approved_Gross</th>\n",
       "      <th>Gross_Amount_Disbursed</th>\n",
       "      <th>Loan_Term</th>\n",
       "      <th>Commitment_Date</th>\n",
       "      <th>Primary_Loan_Digit</th>\n",
       "      <th>Code_Franchise</th>\n",
       "      <th>Name_Of_Bank</th>\n",
       "      <th>Revolving_Credit_Line</th>\n",
       "      <th>Default</th>\n",
       "    </tr>\n",
       "  </thead>\n",
       "  <tbody>\n",
       "  </tbody>\n",
       "</table>\n",
       "<p>0 rows × 26 columns</p>\n",
       "</div>"
      ],
      "text/plain": [
       "Empty DataFrame\n",
       "Columns: [ID, Date_Of_Disbursement, Business, Jobs_Reatained, Jobs_Created , Year_Of_Commitment , Guaranteed_Approved _Loan, Borrower_Name , Low_Documentation_Loan, Demography, State_Of_Bank, ChargedOff_Amount , Borrower_City, Borrower_State, Gross_Amount_Balance, Count_Employees, Classification_Code , Loan_Approved_Gross, Gross_Amount_Disbursed  , Loan_Term, Commitment_Date, Primary_Loan_Digit, Code_Franchise, Name_Of_Bank, Revolving_Credit_Line, Default]\n",
       "Index: []\n",
       "\n",
       "[0 rows x 26 columns]"
      ]
     },
     "execution_count": 9,
     "metadata": {},
     "output_type": "execute_result"
    }
   ],
   "source": [
    "dups=df.duplicated()\n",
    "print(\"Total no of duplicate values = %d\" % (dups.sum()))\n",
    "df[dups]"
   ]
  },
  {
   "cell_type": "code",
   "execution_count": 10,
   "id": "b6566be8",
   "metadata": {},
   "outputs": [
    {
     "data": {
      "text/plain": [
       "0    0.722819\n",
       "1    0.277181\n",
       "Name: Default, dtype: float64"
      ]
     },
     "execution_count": 10,
     "metadata": {},
     "output_type": "execute_result"
    }
   ],
   "source": [
    "df.Default.value_counts(normalize=\"True\")"
   ]
  },
  {
   "cell_type": "code",
   "execution_count": 11,
   "id": "11263e5f",
   "metadata": {},
   "outputs": [
    {
     "name": "stderr",
     "output_type": "stream",
     "text": [
      "C:\\Users\\Arun Sivaji\\Anaconda3\\lib\\site-packages\\seaborn\\_decorators.py:36: FutureWarning: Pass the following variable as a keyword arg: x. From version 0.12, the only valid positional argument will be `data`, and passing other arguments without an explicit keyword will result in an error or misinterpretation.\n",
      "  warnings.warn(\n"
     ]
    },
    {
     "data": {
      "text/plain": [
       "<AxesSubplot:xlabel='Primary_Loan_Digit'>"
      ]
     },
     "execution_count": 11,
     "metadata": {},
     "output_type": "execute_result"
    },
    {
     "data": {
      "image/png": "[encoded data removed]",
      "text/plain": [
       "<Figure size 1440x360 with 1 Axes>"
      ]
     },
     "metadata": {
      "needs_background": "light"
     },
     "output_type": "display_data"
    }
   ],
   "source": [
    "fig = plt.figure(figsize= (20,5))\n",
    "sns.boxplot(df[\"Primary_Loan_Digit\"])"
   ]
  },
  {
   "cell_type": "code",
   "execution_count": 12,
   "id": "4db33325",
   "metadata": {},
   "outputs": [
    {
     "name": "stderr",
     "output_type": "stream",
     "text": [
      "C:\\Users\\Arun Sivaji\\Anaconda3\\lib\\site-packages\\seaborn\\_decorators.py:36: FutureWarning: Pass the following variable as a keyword arg: x. From version 0.12, the only valid positional argument will be `data`, and passing other arguments without an explicit keyword will result in an error or misinterpretation.\n",
      "  warnings.warn(\n"
     ]
    },
    {
     "data": {
      "text/plain": [
       "<AxesSubplot:xlabel='Loan_Term'>"
      ]
     },
     "execution_count": 12,
     "metadata": {},
     "output_type": "execute_result"
    },
    {
     "data": {
      "image/png": "[encoded data removed]",
      "text/plain": [
       "<Figure size 1440x360 with 1 Axes>"
      ]
     },
     "metadata": {
      "needs_background": "light"
     },
     "output_type": "display_data"
    }
   ],
   "source": [
    "fig = plt.figure(figsize= (20,5))\n",
    "sns.boxplot(df[\"Loan_Term\"])"
   ]
  },
  {
   "cell_type": "code",
   "execution_count": 13,
   "id": "6ecc99eb",
   "metadata": {},
   "outputs": [
    {
     "name": "stderr",
     "output_type": "stream",
     "text": [
      "C:\\Users\\Arun Sivaji\\Anaconda3\\lib\\site-packages\\seaborn\\_decorators.py:36: FutureWarning: Pass the following variable as a keyword arg: x. From version 0.12, the only valid positional argument will be `data`, and passing other arguments without an explicit keyword will result in an error or misinterpretation.\n",
      "  warnings.warn(\n"
     ]
    },
    {
     "data": {
      "text/plain": [
       "<seaborn.axisgrid.FacetGrid at 0x2d7e58952b0>"
      ]
     },
     "execution_count": 13,
     "metadata": {},
     "output_type": "execute_result"
    },
    {
     "data": {
      "text/plain": [
       "<Figure size 72x144 with 0 Axes>"
      ]
     },
     "metadata": {},
     "output_type": "display_data"
    },
    {
     "data": {
      "image/png": "[encoded data removed]",
      "text/plain": [
       "<Figure size 360x360 with 1 Axes>"
      ]
     },
     "metadata": {
      "needs_background": "light"
     },
     "output_type": "display_data"
    }
   ],
   "source": [
    "plt.figure(figsize=(1,2))\n",
    "sns.catplot('Business', kind='count', data=df)"
   ]
  },
  {
   "cell_type": "code",
   "execution_count": 14,
   "id": "b4e84c91",
   "metadata": {},
   "outputs": [
    {
     "data": {
      "text/plain": [
       "count    1.050000e+05\n",
       "mean     1.151738e+07\n",
       "std      1.818916e+07\n",
       "min      4.064000e+04\n",
       "25%      1.625600e+06\n",
       "50%      4.226560e+06\n",
       "75%      1.316736e+07\n",
       "max      3.657600e+08\n",
       "Name: Guaranteed_Approved _Loan, dtype: float64"
      ]
     },
     "execution_count": 14,
     "metadata": {},
     "output_type": "execute_result"
    }
   ],
   "source": [
    "df[\"Guaranteed_Approved _Loan\"] = df[\"Guaranteed_Approved _Loan\"].apply(lambda x: x.replace(\"Rs.\", \"\")) # Remove dollar sign\n",
    "df[\"Guaranteed_Approved _Loan\"] = df[\"Guaranteed_Approved _Loan\"].astype(\"float\") # Cast the column into type float\n",
    "df.describe()[\"Guaranteed_Approved _Loan\"]"
   ]
  },
  {
   "cell_type": "code",
   "execution_count": 15,
   "id": "bb3e65c3",
   "metadata": {},
   "outputs": [
    {
     "name": "stderr",
     "output_type": "stream",
     "text": [
      "C:\\Users\\Arun Sivaji\\Anaconda3\\lib\\site-packages\\seaborn\\_decorators.py:36: FutureWarning: Pass the following variable as a keyword arg: x. From version 0.12, the only valid positional argument will be `data`, and passing other arguments without an explicit keyword will result in an error or misinterpretation.\n",
      "  warnings.warn(\n"
     ]
    },
    {
     "data": {
      "text/plain": [
       "<AxesSubplot:xlabel='Guaranteed_Approved _Loan'>"
      ]
     },
     "execution_count": 15,
     "metadata": {},
     "output_type": "execute_result"
    },
    {
     "data": {
      "image/png": "[encoded data removed]",
      "text/plain": [
       "<Figure size 1440x360 with 1 Axes>"
      ]
     },
     "metadata": {
      "needs_background": "light"
     },
     "output_type": "display_data"
    }
   ],
   "source": [
    "fig = plt.figure(figsize= (20,5))\n",
    "sns.boxplot(df[\"Guaranteed_Approved _Loan\"])"
   ]
  },
  {
   "cell_type": "code",
   "execution_count": 16,
   "id": "baad749a",
   "metadata": {},
   "outputs": [
    {
     "data": {
      "text/plain": [
       "count    1.050000e+05\n",
       "mean     1.492200e+07\n",
       "std      2.262852e+07\n",
       "min      8.128000e+04\n",
       "25%      2.600960e+06\n",
       "50%      6.502400e+06\n",
       "75%      1.690624e+07\n",
       "max      4.064000e+08\n",
       "Name: Loan_Approved_Gross, dtype: float64"
      ]
     },
     "execution_count": 16,
     "metadata": {},
     "output_type": "execute_result"
    }
   ],
   "source": [
    "df[\"Loan_Approved_Gross\"] = df[\"Loan_Approved_Gross\"].apply(lambda x: x.replace(\"Rs.\", \"\")) # Remove dollar sign\n",
    "df[\"Loan_Approved_Gross\"] = df[\"Loan_Approved_Gross\"].apply(lambda x: x.replace(\" \", \"\")) # Remove thousand separator\n",
    "df[\"Loan_Approved_Gross\"] = df[\"Loan_Approved_Gross\"].astype(\"float\") # Cast the column into type float\n",
    "df.describe()[\"Loan_Approved_Gross\"]"
   ]
  },
  {
   "cell_type": "code",
   "execution_count": 17,
   "id": "b79ba768",
   "metadata": {},
   "outputs": [
    {
     "name": "stderr",
     "output_type": "stream",
     "text": [
      "C:\\Users\\Arun Sivaji\\Anaconda3\\lib\\site-packages\\seaborn\\_decorators.py:36: FutureWarning: Pass the following variable as a keyword arg: x. From version 0.12, the only valid positional argument will be `data`, and passing other arguments without an explicit keyword will result in an error or misinterpretation.\n",
      "  warnings.warn(\n"
     ]
    },
    {
     "data": {
      "text/plain": [
       "<AxesSubplot:xlabel='Loan_Approved_Gross'>"
      ]
     },
     "execution_count": 17,
     "metadata": {},
     "output_type": "execute_result"
    },
    {
     "data": {
      "image/png": "[encoded data removed]",
      "text/plain": [
       "<Figure size 1440x360 with 1 Axes>"
      ]
     },
     "metadata": {
      "needs_background": "light"
     },
     "output_type": "display_data"
    }
   ],
   "source": [
    "fig = plt.figure(figsize= (20,5))\n",
    "sns.boxplot(df[\"Loan_Approved_Gross\"])"
   ]
  },
  {
   "cell_type": "code",
   "execution_count": 18,
   "id": "ec9332d6",
   "metadata": {},
   "outputs": [
    {
     "name": "stdout",
     "output_type": "stream",
     "text": [
      "['ID', 'Date_Of_Disbursement', 'Business', 'Jobs_Reatained', 'Jobs_Created ', 'Year_Of_Commitment ', 'Guaranteed_Approved _Loan', 'Borrower_Name ', 'Low_Documentation_Loan', 'Demography', 'State_Of_Bank', 'ChargedOff_Amount ', 'Borrower_City', 'Borrower_State', 'Gross_Amount_Balance', 'Count_Employees', 'Classification_Code ', 'Loan_Approved_Gross', 'Gross_Amount_Disbursed  ', 'Loan_Term', 'Commitment_Date', 'Primary_Loan_Digit', 'Code_Franchise', 'Name_Of_Bank', 'Revolving_Credit_Line', 'Default']\n"
     ]
    }
   ],
   "source": [
    "print(df.columns.tolist())"
   ]
  },
  {
   "cell_type": "code",
   "execution_count": 19,
   "id": "70847587",
   "metadata": {},
   "outputs": [
    {
     "data": {
      "text/plain": [
       "count    1.050000e+05\n",
       "mean     1.563878e+07\n",
       "std      2.288627e+07\n",
       "min      3.251200e+05\n",
       "25%      3.251200e+06\n",
       "50%      7.802880e+06\n",
       "75%      1.812579e+07\n",
       "max      7.311136e+08\n",
       "Name: Gross_Amount_Disbursed  , dtype: float64"
      ]
     },
     "execution_count": 19,
     "metadata": {},
     "output_type": "execute_result"
    }
   ],
   "source": [
    "df[\"Gross_Amount_Disbursed  \"] = df[\"Gross_Amount_Disbursed  \"].apply(lambda x: x.replace(\" \", \"\")) \n",
    "df[\"Gross_Amount_Disbursed  \"] = df[\"Gross_Amount_Disbursed  \"].apply(lambda x: x.replace(\"Rs.\", \"\"))\n",
    "df[\"Gross_Amount_Disbursed  \"] = df[\"Gross_Amount_Disbursed  \"].astype(\"float\") # Cast the column into type float\n",
    "df.describe()[\"Gross_Amount_Disbursed  \"]"
   ]
  },
  {
   "cell_type": "code",
   "execution_count": 20,
   "id": "3ad3cebd",
   "metadata": {},
   "outputs": [
    {
     "name": "stderr",
     "output_type": "stream",
     "text": [
      "C:\\Users\\Arun Sivaji\\Anaconda3\\lib\\site-packages\\seaborn\\_decorators.py:36: FutureWarning: Pass the following variable as a keyword arg: x. From version 0.12, the only valid positional argument will be `data`, and passing other arguments without an explicit keyword will result in an error or misinterpretation.\n",
      "  warnings.warn(\n"
     ]
    },
    {
     "data": {
      "text/plain": [
       "<AxesSubplot:xlabel='Gross_Amount_Disbursed  '>"
      ]
     },
     "execution_count": 20,
     "metadata": {},
     "output_type": "execute_result"
    },
    {
     "data": {
      "image/png": "[encoded data removed]",
      "text/plain": [
       "<Figure size 1440x360 with 1 Axes>"
      ]
     },
     "metadata": {
      "needs_background": "light"
     },
     "output_type": "display_data"
    }
   ],
   "source": [
    "fig = plt.figure(figsize= (20,5))\n",
    "sns.boxplot(df[\"Gross_Amount_Disbursed  \"])"
   ]
  },
  {
   "cell_type": "code",
   "execution_count": 21,
   "id": "e767d027",
   "metadata": {},
   "outputs": [
    {
     "data": {
      "text/plain": [
       "count    1.050000e+05\n",
       "mean     7.637843e+01\n",
       "std      2.431197e+04\n",
       "min      0.000000e+00\n",
       "25%      0.000000e+00\n",
       "50%      0.000000e+00\n",
       "75%      0.000000e+00\n",
       "max      7.876682e+06\n",
       "Name: Gross_Amount_Balance, dtype: float64"
      ]
     },
     "execution_count": 21,
     "metadata": {},
     "output_type": "execute_result"
    }
   ],
   "source": [
    "df[\"Gross_Amount_Balance\"] = df[\"Gross_Amount_Balance\"].apply(lambda x: x.replace(\" \", \"\")) \n",
    "df[\"Gross_Amount_Balance\"] = df[\"Gross_Amount_Balance\"].apply(lambda x: x.replace(\"Rs.\", \"\"))\n",
    "df[\"Gross_Amount_Balance\"] = df[\"Gross_Amount_Balance\"].astype(\"float\") # Cast the column into type float\n",
    "df.describe()[\"Gross_Amount_Balance\"]"
   ]
  },
  {
   "cell_type": "code",
   "execution_count": 22,
   "id": "2115be91",
   "metadata": {},
   "outputs": [
    {
     "data": {
      "text/plain": [
       "count    1.050000e+05\n",
       "mean     1.711913e+06\n",
       "std      6.520106e+06\n",
       "min      0.000000e+00\n",
       "25%      0.000000e+00\n",
       "50%      0.000000e+00\n",
       "75%      6.170168e+05\n",
       "max      1.625599e+08\n",
       "Name: ChargedOff_Amount , dtype: float64"
      ]
     },
     "execution_count": 22,
     "metadata": {},
     "output_type": "execute_result"
    }
   ],
   "source": [
    "df[\"ChargedOff_Amount \"] = df[\"ChargedOff_Amount \"].apply(lambda x: x.replace(\" \", \"\")) \n",
    "df[\"ChargedOff_Amount \"] = df[\"ChargedOff_Amount \"].apply(lambda x: x.replace(\"Rs.\", \"\"))\n",
    "df[\"ChargedOff_Amount \"] = df[\"ChargedOff_Amount \"].astype(\"float\") # Cast the column into type float\n",
    "df.describe()[\"ChargedOff_Amount \"]"
   ]
  },
  {
   "cell_type": "code",
   "execution_count": 23,
   "id": "af8262d2",
   "metadata": {},
   "outputs": [
    {
     "name": "stderr",
     "output_type": "stream",
     "text": [
      "C:\\Users\\Arun Sivaji\\Anaconda3\\lib\\site-packages\\seaborn\\_decorators.py:36: FutureWarning: Pass the following variable as a keyword arg: x. From version 0.12, the only valid positional argument will be `data`, and passing other arguments without an explicit keyword will result in an error or misinterpretation.\n",
      "  warnings.warn(\n"
     ]
    },
    {
     "data": {
      "text/plain": [
       "<AxesSubplot:xlabel='ChargedOff_Amount '>"
      ]
     },
     "execution_count": 23,
     "metadata": {},
     "output_type": "execute_result"
    },
    {
     "data": {
      "image/png": "[encoded data removed]",
      "text/plain": [
       "<Figure size 1440x360 with 1 Axes>"
      ]
     },
     "metadata": {
      "needs_background": "light"
     },
     "output_type": "display_data"
    }
   ],
   "source": [
    "fig = plt.figure(figsize= (20,5))\n",
    "sns.boxplot(df[\"ChargedOff_Amount \"])"
   ]
  },
  {
   "cell_type": "code",
   "execution_count": 24,
   "id": "feddc924",
   "metadata": {},
   "outputs": [],
   "source": [
    "df[\"Gross_Amount_Balance\"] = df[\"Gross_Amount_Balance\"].astype(\"object\") # Cast the column into type flo"
   ]
  },
  {
   "cell_type": "code",
   "execution_count": 25,
   "id": "b3f3222c",
   "metadata": {},
   "outputs": [],
   "source": [
    "df[\"Default\"] = df[\"Default\"].astype(\"object\") "
   ]
  },
  {
   "cell_type": "code",
   "execution_count": 26,
   "id": "5553ebd1",
   "metadata": {},
   "outputs": [
    {
     "data": {
      "text/plain": [
       "ID                             int64\n",
       "Date_Of_Disbursement          object\n",
       "Business                      object\n",
       "Jobs_Reatained                 int64\n",
       "Jobs_Created                   int64\n",
       "Year_Of_Commitment            object\n",
       "Guaranteed_Approved _Loan    float64\n",
       "Borrower_Name                 object\n",
       "Low_Documentation_Loan        object\n",
       "Demography                    object\n",
       "State_Of_Bank                 object\n",
       "ChargedOff_Amount            float64\n",
       "Borrower_City                 object\n",
       "Borrower_State                object\n",
       "Gross_Amount_Balance          object\n",
       "Count_Employees                int64\n",
       "Classification_Code            int64\n",
       "Loan_Approved_Gross          float64\n",
       "Gross_Amount_Disbursed       float64\n",
       "Loan_Term                      int64\n",
       "Commitment_Date               object\n",
       "Primary_Loan_Digit             int64\n",
       "Code_Franchise                 int64\n",
       "Name_Of_Bank                  object\n",
       "Revolving_Credit_Line         object\n",
       "Default                       object\n",
       "dtype: object"
      ]
     },
     "execution_count": 26,
     "metadata": {},
     "output_type": "execute_result"
    }
   ],
   "source": [
    "df.dtypes"
   ]
  },
  {
   "cell_type": "code",
   "execution_count": 27,
   "id": "dec0cbd2",
   "metadata": {},
   "outputs": [],
   "source": [
    "df1=df.drop(['Date_Of_Disbursement','Jobs_Reatained','Jobs_Created ','Year_Of_Commitment ','Borrower_Name ','Gross_Amount_Balance','Count_Employees','Classification_Code ','Commitment_Date','Code_Franchise','State_Of_Bank','Borrower_City','Borrower_State','Name_Of_Bank','Revolving_Credit_Line'], axis=1)"
   ]
  },
  {
   "cell_type": "code",
   "execution_count": 28,
   "id": "07ce69e4",
   "metadata": {},
   "outputs": [
    {
     "data": {
      "text/html": [
       "<div>\n",
       "<style scoped>\n",
       "    .dataframe tbody tr th:only-of-type {\n",
       "        vertical-align: middle;\n",
       "    }\n",
       "\n",
       "    .dataframe tbody tr th {\n",
       "        vertical-align: top;\n",
       "    }\n",
       "\n",
       "    .dataframe thead th {\n",
       "        text-align: right;\n",
       "    }\n",
       "</style>\n",
       "<table border=\"1\" class=\"dataframe\">\n",
       "  <thead>\n",
       "    <tr style=\"text-align: right;\">\n",
       "      <th></th>\n",
       "      <th>ID</th>\n",
       "      <th>Business</th>\n",
       "      <th>Guaranteed_Approved _Loan</th>\n",
       "      <th>Low_Documentation_Loan</th>\n",
       "      <th>Demography</th>\n",
       "      <th>ChargedOff_Amount</th>\n",
       "      <th>Loan_Approved_Gross</th>\n",
       "      <th>Gross_Amount_Disbursed</th>\n",
       "      <th>Loan_Term</th>\n",
       "      <th>Primary_Loan_Digit</th>\n",
       "      <th>Default</th>\n",
       "    </tr>\n",
       "  </thead>\n",
       "  <tbody>\n",
       "    <tr>\n",
       "      <th>0</th>\n",
       "      <td>0</td>\n",
       "      <td>Existing</td>\n",
       "      <td>33121600.0</td>\n",
       "      <td>No</td>\n",
       "      <td>Undefined</td>\n",
       "      <td>0.00</td>\n",
       "      <td>40640000.0</td>\n",
       "      <td>40640000.00</td>\n",
       "      <td>126</td>\n",
       "      <td>4419763001</td>\n",
       "      <td>0</td>\n",
       "    </tr>\n",
       "    <tr>\n",
       "      <th>1</th>\n",
       "      <td>1</td>\n",
       "      <td>New</td>\n",
       "      <td>32735520.0</td>\n",
       "      <td>No</td>\n",
       "      <td>Urban</td>\n",
       "      <td>38283367.68</td>\n",
       "      <td>43647360.0</td>\n",
       "      <td>43647360.00</td>\n",
       "      <td>123</td>\n",
       "      <td>1709796003</td>\n",
       "      <td>1</td>\n",
       "    </tr>\n",
       "    <tr>\n",
       "      <th>2</th>\n",
       "      <td>2</td>\n",
       "      <td>Existing</td>\n",
       "      <td>1422400.0</td>\n",
       "      <td>No</td>\n",
       "      <td>Urban</td>\n",
       "      <td>0.00</td>\n",
       "      <td>2844800.0</td>\n",
       "      <td>5961400.32</td>\n",
       "      <td>90</td>\n",
       "      <td>7464754008</td>\n",
       "      <td>0</td>\n",
       "    </tr>\n",
       "    <tr>\n",
       "      <th>3</th>\n",
       "      <td>3</td>\n",
       "      <td>New</td>\n",
       "      <td>2032000.0</td>\n",
       "      <td>No</td>\n",
       "      <td>Urban</td>\n",
       "      <td>0.00</td>\n",
       "      <td>4064000.0</td>\n",
       "      <td>4064000.00</td>\n",
       "      <td>126</td>\n",
       "      <td>1588745006</td>\n",
       "      <td>0</td>\n",
       "    </tr>\n",
       "    <tr>\n",
       "      <th>4</th>\n",
       "      <td>4</td>\n",
       "      <td>Existing</td>\n",
       "      <td>22981920.0</td>\n",
       "      <td>No</td>\n",
       "      <td>Urban</td>\n",
       "      <td>22862519.68</td>\n",
       "      <td>30642560.0</td>\n",
       "      <td>30642560.00</td>\n",
       "      <td>104</td>\n",
       "      <td>8037734002</td>\n",
       "      <td>1</td>\n",
       "    </tr>\n",
       "  </tbody>\n",
       "</table>\n",
       "</div>"
      ],
      "text/plain": [
       "   ID  Business  Guaranteed_Approved _Loan Low_Documentation_Loan Demography  \\\n",
       "0   0  Existing                 33121600.0                     No  Undefined   \n",
       "1   1       New                 32735520.0                     No      Urban   \n",
       "2   2  Existing                  1422400.0                     No      Urban   \n",
       "3   3       New                  2032000.0                     No      Urban   \n",
       "4   4  Existing                 22981920.0                     No      Urban   \n",
       "\n",
       "   ChargedOff_Amount   Loan_Approved_Gross  Gross_Amount_Disbursed    \\\n",
       "0                0.00           40640000.0               40640000.00   \n",
       "1         38283367.68           43647360.0               43647360.00   \n",
       "2                0.00            2844800.0                5961400.32   \n",
       "3                0.00            4064000.0                4064000.00   \n",
       "4         22862519.68           30642560.0               30642560.00   \n",
       "\n",
       "   Loan_Term  Primary_Loan_Digit Default  \n",
       "0        126          4419763001       0  \n",
       "1        123          1709796003       1  \n",
       "2         90          7464754008       0  \n",
       "3        126          1588745006       0  \n",
       "4        104          8037734002       1  "
      ]
     },
     "execution_count": 28,
     "metadata": {},
     "output_type": "execute_result"
    }
   ],
   "source": [
    "df1.head()"
   ]
  },
  {
   "cell_type": "code",
   "execution_count": 29,
   "id": "2706b5de",
   "metadata": {},
   "outputs": [
    {
     "data": {
      "text/plain": [
       "ID                             int64\n",
       "Business                      object\n",
       "Guaranteed_Approved _Loan    float64\n",
       "Low_Documentation_Loan        object\n",
       "Demography                    object\n",
       "ChargedOff_Amount            float64\n",
       "Loan_Approved_Gross          float64\n",
       "Gross_Amount_Disbursed       float64\n",
       "Loan_Term                      int64\n",
       "Primary_Loan_Digit             int64\n",
       "Default                       object\n",
       "dtype: object"
      ]
     },
     "execution_count": 29,
     "metadata": {},
     "output_type": "execute_result"
    }
   ],
   "source": [
    "df1.dtypes"
   ]
  },
  {
   "cell_type": "code",
   "execution_count": 30,
   "id": "e3eb063c",
   "metadata": {},
   "outputs": [
    {
     "data": {
      "text/plain": [
       "ID                             0\n",
       "Business                      15\n",
       "Guaranteed_Approved _Loan      0\n",
       "Low_Documentation_Loan       367\n",
       "Demography                     0\n",
       "ChargedOff_Amount              0\n",
       "Loan_Approved_Gross            0\n",
       "Gross_Amount_Disbursed         0\n",
       "Loan_Term                      0\n",
       "Primary_Loan_Digit             0\n",
       "Default                        0\n",
       "dtype: int64"
      ]
     },
     "execution_count": 30,
     "metadata": {},
     "output_type": "execute_result"
    }
   ],
   "source": [
    "df1.isnull().sum()"
   ]
  },
  {
   "cell_type": "code",
   "execution_count": 31,
   "id": "ca5237ee",
   "metadata": {},
   "outputs": [],
   "source": [
    "from numpy import nan"
   ]
  },
  {
   "cell_type": "code",
   "execution_count": 32,
   "id": "fde3e6fd",
   "metadata": {},
   "outputs": [],
   "source": [
    "df1[\"Business\"] = df1[\"Business\"].replace(0, nan)\n",
    "df1[\"Low_Documentation_Loan\"] = df1[\"Low_Documentation_Loan\"].replace(0, nan)"
   ]
  },
  {
   "cell_type": "code",
   "execution_count": 33,
   "id": "e0d78cb2",
   "metadata": {},
   "outputs": [
    {
     "data": {
      "text/plain": [
       "ID                             0\n",
       "Business                      15\n",
       "Guaranteed_Approved _Loan      0\n",
       "Low_Documentation_Loan       367\n",
       "Demography                     0\n",
       "ChargedOff_Amount              0\n",
       "Loan_Approved_Gross            0\n",
       "Gross_Amount_Disbursed         0\n",
       "Loan_Term                      0\n",
       "Primary_Loan_Digit             0\n",
       "Default                        0\n",
       "dtype: int64"
      ]
     },
     "execution_count": 33,
     "metadata": {},
     "output_type": "execute_result"
    }
   ],
   "source": [
    "df1.isnull().sum()"
   ]
  },
  {
   "cell_type": "code",
   "execution_count": 34,
   "id": "b3973937",
   "metadata": {},
   "outputs": [],
   "source": [
    "df1['Low_Documentation_Loan'].fillna(df1['Low_Documentation_Loan'].mode()[0], inplace=True)"
   ]
  },
  {
   "cell_type": "code",
   "execution_count": 35,
   "id": "0ec7e1ca",
   "metadata": {},
   "outputs": [],
   "source": [
    "df1['Business'].fillna(df1['Business'].mode()[0], inplace=True)"
   ]
  },
  {
   "cell_type": "code",
   "execution_count": 36,
   "id": "a3107343",
   "metadata": {},
   "outputs": [
    {
     "data": {
      "text/plain": [
       "0"
      ]
     },
     "execution_count": 36,
     "metadata": {},
     "output_type": "execute_result"
    }
   ],
   "source": [
    "df1.isnull().sum().sum()"
   ]
  },
  {
   "cell_type": "code",
   "execution_count": 37,
   "id": "a4ce0a2c",
   "metadata": {},
   "outputs": [
    {
     "name": "stderr",
     "output_type": "stream",
     "text": [
      "C:\\Users\\Arun Sivaji\\Anaconda3\\lib\\site-packages\\seaborn\\_decorators.py:36: FutureWarning: Pass the following variable as a keyword arg: x. From version 0.12, the only valid positional argument will be `data`, and passing other arguments without an explicit keyword will result in an error or misinterpretation.\n",
      "  warnings.warn(\n"
     ]
    },
    {
     "data": {
      "text/plain": [
       "<seaborn.axisgrid.FacetGrid at 0x2d7e6c1bbb0>"
      ]
     },
     "execution_count": 37,
     "metadata": {},
     "output_type": "execute_result"
    },
    {
     "data": {
      "text/plain": [
       "<Figure size 288x432 with 0 Axes>"
      ]
     },
     "metadata": {},
     "output_type": "display_data"
    },
    {
     "data": {
      "image/png": "[encoded data removed]",
      "text/plain": [
       "<Figure size 360x360 with 1 Axes>"
      ]
     },
     "metadata": {
      "needs_background": "light"
     },
     "output_type": "display_data"
    }
   ],
   "source": [
    "plt.figure(figsize=(4,6))\n",
    "sns.catplot('Business', kind='count', data=df)"
   ]
  },
  {
   "cell_type": "code",
   "execution_count": 38,
   "id": "032735be",
   "metadata": {},
   "outputs": [
    {
     "name": "stderr",
     "output_type": "stream",
     "text": [
      "C:\\Users\\Arun Sivaji\\Anaconda3\\lib\\site-packages\\seaborn\\_decorators.py:36: FutureWarning: Pass the following variable as a keyword arg: x. From version 0.12, the only valid positional argument will be `data`, and passing other arguments without an explicit keyword will result in an error or misinterpretation.\n",
      "  warnings.warn(\n"
     ]
    },
    {
     "data": {
      "text/plain": [
       "<seaborn.axisgrid.FacetGrid at 0x2d7e6c940a0>"
      ]
     },
     "execution_count": 38,
     "metadata": {},
     "output_type": "execute_result"
    },
    {
     "data": {
      "text/plain": [
       "<Figure size 288x432 with 0 Axes>"
      ]
     },
     "metadata": {},
     "output_type": "display_data"
    },
    {
     "data": {
      "image/png": "[encoded data removed]",
      "text/plain": [
       "<Figure size 360x360 with 1 Axes>"
      ]
     },
     "metadata": {
      "needs_background": "light"
     },
     "output_type": "display_data"
    }
   ],
   "source": [
    "plt.figure(figsize=(4,6))\n",
    "sns.catplot('Low_Documentation_Loan', kind='count', data=df)"
   ]
  },
  {
   "cell_type": "code",
   "execution_count": 39,
   "id": "ee6501a1",
   "metadata": {},
   "outputs": [
    {
     "name": "stderr",
     "output_type": "stream",
     "text": [
      "C:\\Users\\Arun Sivaji\\Anaconda3\\lib\\site-packages\\seaborn\\distributions.py:2557: FutureWarning: `distplot` is a deprecated function and will be removed in a future version. Please adapt your code to use either `displot` (a figure-level function with similar flexibility) or `histplot` (an axes-level function for histograms).\n",
      "  warnings.warn(msg, FutureWarning)\n"
     ]
    },
    {
     "data": {
      "text/plain": [
       "<AxesSubplot:xlabel='Guaranteed_Approved _Loan', ylabel='Density'>"
      ]
     },
     "execution_count": 39,
     "metadata": {},
     "output_type": "execute_result"
    },
    {
     "data": {
      "image/png": "[encoded data removed]",
      "text/plain": [
       "<Figure size 432x288 with 1 Axes>"
      ]
     },
     "metadata": {
      "needs_background": "light"
     },
     "output_type": "display_data"
    }
   ],
   "source": [
    "sns.distplot(df1['Guaranteed_Approved _Loan'])"
   ]
  },
  {
   "cell_type": "code",
   "execution_count": 40,
   "id": "501b2885",
   "metadata": {},
   "outputs": [
    {
     "name": "stderr",
     "output_type": "stream",
     "text": [
      "C:\\Users\\Arun Sivaji\\Anaconda3\\lib\\site-packages\\seaborn\\distributions.py:2557: FutureWarning: `distplot` is a deprecated function and will be removed in a future version. Please adapt your code to use either `displot` (a figure-level function with similar flexibility) or `histplot` (an axes-level function for histograms).\n",
      "  warnings.warn(msg, FutureWarning)\n"
     ]
    },
    {
     "data": {
      "text/plain": [
       "<AxesSubplot:xlabel='Loan_Approved_Gross', ylabel='Density'>"
      ]
     },
     "execution_count": 40,
     "metadata": {},
     "output_type": "execute_result"
    },
    {
     "data": {
      "image/png": "[encoded data removed]",
      "text/plain": [
       "<Figure size 432x288 with 1 Axes>"
      ]
     },
     "metadata": {
      "needs_background": "light"
     },
     "output_type": "display_data"
    }
   ],
   "source": [
    "sns.distplot(df1['Loan_Approved_Gross'])"
   ]
  },
  {
   "cell_type": "code",
   "execution_count": 41,
   "id": "802de6e8",
   "metadata": {},
   "outputs": [
    {
     "name": "stderr",
     "output_type": "stream",
     "text": [
      "C:\\Users\\Arun Sivaji\\Anaconda3\\lib\\site-packages\\seaborn\\distributions.py:2557: FutureWarning: `distplot` is a deprecated function and will be removed in a future version. Please adapt your code to use either `displot` (a figure-level function with similar flexibility) or `histplot` (an axes-level function for histograms).\n",
      "  warnings.warn(msg, FutureWarning)\n"
     ]
    },
    {
     "data": {
      "text/plain": [
       "<AxesSubplot:xlabel='Gross_Amount_Disbursed  ', ylabel='Density'>"
      ]
     },
     "execution_count": 41,
     "metadata": {},
     "output_type": "execute_result"
    },
    {
     "data": {
      "image/png": "[encoded data removed]",
      "text/plain": [
       "<Figure size 432x288 with 1 Axes>"
      ]
     },
     "metadata": {
      "needs_background": "light"
     },
     "output_type": "display_data"
    }
   ],
   "source": [
    "sns.distplot(df1['Gross_Amount_Disbursed  '])"
   ]
  },
  {
   "cell_type": "code",
   "execution_count": 42,
   "id": "e95b4227",
   "metadata": {},
   "outputs": [
    {
     "name": "stderr",
     "output_type": "stream",
     "text": [
      "C:\\Users\\Arun Sivaji\\Anaconda3\\lib\\site-packages\\seaborn\\distributions.py:2557: FutureWarning: `distplot` is a deprecated function and will be removed in a future version. Please adapt your code to use either `displot` (a figure-level function with similar flexibility) or `histplot` (an axes-level function for histograms).\n",
      "  warnings.warn(msg, FutureWarning)\n"
     ]
    },
    {
     "data": {
      "text/plain": [
       "<AxesSubplot:xlabel='ChargedOff_Amount ', ylabel='Density'>"
      ]
     },
     "execution_count": 42,
     "metadata": {},
     "output_type": "execute_result"
    },
    {
     "data": {
      "image/png": "[encoded data removed]",
      "text/plain": [
       "<Figure size 432x288 with 1 Axes>"
      ]
     },
     "metadata": {
      "needs_background": "light"
     },
     "output_type": "display_data"
    }
   ],
   "source": [
    "sns.distplot(df1['ChargedOff_Amount '])"
   ]
  },
  {
   "cell_type": "code",
   "execution_count": 43,
   "id": "7ed0f42f",
   "metadata": {},
   "outputs": [
    {
     "name": "stderr",
     "output_type": "stream",
     "text": [
      "C:\\Users\\Arun Sivaji\\Anaconda3\\lib\\site-packages\\seaborn\\distributions.py:2557: FutureWarning: `distplot` is a deprecated function and will be removed in a future version. Please adapt your code to use either `displot` (a figure-level function with similar flexibility) or `histplot` (an axes-level function for histograms).\n",
      "  warnings.warn(msg, FutureWarning)\n"
     ]
    },
    {
     "data": {
      "text/plain": [
       "<AxesSubplot:xlabel='Primary_Loan_Digit', ylabel='Density'>"
      ]
     },
     "execution_count": 43,
     "metadata": {},
     "output_type": "execute_result"
    },
    {
     "data": {
      "image/png": "[encoded data removed]",
      "text/plain": [
       "<Figure size 432x288 with 1 Axes>"
      ]
     },
     "metadata": {
      "needs_background": "light"
     },
     "output_type": "display_data"
    }
   ],
   "source": [
    "sns.distplot(df1['Primary_Loan_Digit'])"
   ]
  },
  {
   "cell_type": "code",
   "execution_count": 44,
   "id": "e47cf1ce",
   "metadata": {},
   "outputs": [
    {
     "name": "stderr",
     "output_type": "stream",
     "text": [
      "C:\\Users\\Arun Sivaji\\Anaconda3\\lib\\site-packages\\seaborn\\distributions.py:2557: FutureWarning: `distplot` is a deprecated function and will be removed in a future version. Please adapt your code to use either `displot` (a figure-level function with similar flexibility) or `histplot` (an axes-level function for histograms).\n",
      "  warnings.warn(msg, FutureWarning)\n"
     ]
    },
    {
     "data": {
      "text/plain": [
       "<AxesSubplot:xlabel='Loan_Term', ylabel='Density'>"
      ]
     },
     "execution_count": 44,
     "metadata": {},
     "output_type": "execute_result"
    },
    {
     "data": {
      "image/png": "[encoded data removed]",
      "text/plain": [
       "<Figure size 432x288 with 1 Axes>"
      ]
     },
     "metadata": {
      "needs_background": "light"
     },
     "output_type": "display_data"
    }
   ],
   "source": [
    "sns.distplot(df1['Loan_Term'])"
   ]
  },
  {
   "cell_type": "code",
   "execution_count": 45,
   "id": "24d73f03",
   "metadata": {},
   "outputs": [
    {
     "data": {
      "text/plain": [
       "<AxesSubplot:>"
      ]
     },
     "execution_count": 45,
     "metadata": {},
     "output_type": "execute_result"
    },
    {
     "data": {
      "image/png": "[encoded data removed]",
      "text/plain": [
       "<Figure size 1080x720 with 2 Axes>"
      ]
     },
     "metadata": {
      "needs_background": "light"
     },
     "output_type": "display_data"
    }
   ],
   "source": [
    "plt.figure(figsize=(15,10))\n",
    "sns.heatmap(df1.corr(),annot=True)"
   ]
  },
  {
   "cell_type": "code",
   "execution_count": 104,
   "id": "33dd1d68",
   "metadata": {},
   "outputs": [],
   "source": [
    "cols = ['Guaranteed_Approved _Loan','Loan_Approved_Gross','ChargedOff_Amount ','Primary_Loan_Digit','Loan_Term']"
   ]
  },
  {
   "cell_type": "code",
   "execution_count": 105,
   "id": "dc251448",
   "metadata": {},
   "outputs": [],
   "source": [
    "def remove_outlier(col):\n",
    "    sorted(col)\n",
    "    Q1,Q3=np.percentile(col,[25,75])\n",
    "    IQR=Q3-Q1\n",
    "    lower_range= Q1-(1.5 * IQR)\n",
    "    upper_range= Q3+(1.5 * IQR)\n",
    "    return lower_range, upper_range"
   ]
  },
  {
   "cell_type": "code",
   "execution_count": 106,
   "id": "a518055e",
   "metadata": {},
   "outputs": [],
   "source": [
    "for column in df1[cols].columns:\n",
    "    lr,ur=remove_outlier(df1[column])\n",
    "    df1[column]=np.where(df1[column]>ur,ur,df1[column])\n",
    "    df1[column]=np.where(df1[column]<lr,lr,df1[column])"
   ]
  },
  {
   "cell_type": "code",
   "execution_count": 107,
   "id": "3e4c9906",
   "metadata": {},
   "outputs": [
    {
     "name": "stdout",
     "output_type": "stream",
     "text": [
      "Business\n",
      "Existing    75106\n",
      "New         29789\n",
      "0             105\n",
      "Name: Business, dtype: int64\n",
      "\n",
      "\n",
      "Low_Documentation_Loan\n",
      "No     92502\n",
      "Yes    12075\n",
      "0        173\n",
      "S         95\n",
      "C         89\n",
      "A         60\n",
      "R          6\n",
      "Name: Low_Documentation_Loan, dtype: int64\n",
      "\n",
      "\n",
      "Demography\n",
      "Urban        57598\n",
      "Undefined    35099\n",
      "Rural        12303\n",
      "Name: Demography, dtype: int64\n",
      "\n",
      "\n",
      "Default\n",
      "0    75896\n",
      "1    29104\n",
      "Name: Default, dtype: int64\n",
      "\n",
      "\n"
     ]
    }
   ],
   "source": [
    "for feature in df1.columns: \n",
    "    if df1[feature].dtype == 'object': \n",
    "        print(feature)\n",
    "        print(df1[feature].value_counts())\n",
    "        print('\\n')"
   ]
  },
  {
   "cell_type": "code",
   "execution_count": 108,
   "id": "ee57fdf4",
   "metadata": {},
   "outputs": [],
   "source": [
    "df1[\"Guaranteed_Approved _Loan\"]=np.log(df1[\"Guaranteed_Approved _Loan\"]+1)"
   ]
  },
  {
   "cell_type": "code",
   "execution_count": 109,
   "id": "fe198d79",
   "metadata": {},
   "outputs": [
    {
     "name": "stderr",
     "output_type": "stream",
     "text": [
      "C:\\Users\\Arun Sivaji\\Anaconda3\\lib\\site-packages\\seaborn\\distributions.py:2557: FutureWarning: `distplot` is a deprecated function and will be removed in a future version. Please adapt your code to use either `displot` (a figure-level function with similar flexibility) or `histplot` (an axes-level function for histograms).\n",
      "  warnings.warn(msg, FutureWarning)\n"
     ]
    },
    {
     "data": {
      "text/plain": [
       "<AxesSubplot:xlabel='Guaranteed_Approved _Loan', ylabel='Density'>"
      ]
     },
     "execution_count": 109,
     "metadata": {},
     "output_type": "execute_result"
    },
    {
     "data": {
      "image/png": "[encoded data removed]",
      "text/plain": [
       "<Figure size 432x288 with 1 Axes>"
      ]
     },
     "metadata": {
      "needs_background": "light"
     },
     "output_type": "display_data"
    }
   ],
   "source": [
    "sns.distplot(df1[\"Guaranteed_Approved _Loan\"])"
   ]
  },
  {
   "cell_type": "code",
   "execution_count": 110,
   "id": "8c1434e3",
   "metadata": {},
   "outputs": [],
   "source": [
    "df1[\"Loan_Approved_Gross\"]=np.log(df1[\"Loan_Approved_Gross\"]+1)"
   ]
  },
  {
   "cell_type": "code",
   "execution_count": 111,
   "id": "c2478c5d",
   "metadata": {},
   "outputs": [
    {
     "name": "stderr",
     "output_type": "stream",
     "text": [
      "C:\\Users\\Arun Sivaji\\Anaconda3\\lib\\site-packages\\seaborn\\distributions.py:2557: FutureWarning: `distplot` is a deprecated function and will be removed in a future version. Please adapt your code to use either `displot` (a figure-level function with similar flexibility) or `histplot` (an axes-level function for histograms).\n",
      "  warnings.warn(msg, FutureWarning)\n"
     ]
    },
    {
     "data": {
      "text/plain": [
       "<AxesSubplot:xlabel='Loan_Approved_Gross', ylabel='Density'>"
      ]
     },
     "execution_count": 111,
     "metadata": {},
     "output_type": "execute_result"
    },
    {
     "data": {
      "image/png": "[encoded data removed]",
      "text/plain": [
       "<Figure size 432x288 with 1 Axes>"
      ]
     },
     "metadata": {
      "needs_background": "light"
     },
     "output_type": "display_data"
    }
   ],
   "source": [
    "sns.distplot(df1[\"Loan_Approved_Gross\"])"
   ]
  },
  {
   "cell_type": "code",
   "execution_count": 112,
   "id": "1afc1a6b",
   "metadata": {},
   "outputs": [],
   "source": [
    "df1[\"Gross_Amount_Disbursed  \"]=np.log(df1[\"Gross_Amount_Disbursed  \"]+1)"
   ]
  },
  {
   "cell_type": "code",
   "execution_count": 113,
   "id": "f965ba10",
   "metadata": {},
   "outputs": [
    {
     "name": "stderr",
     "output_type": "stream",
     "text": [
      "C:\\Users\\Arun Sivaji\\Anaconda3\\lib\\site-packages\\seaborn\\distributions.py:2557: FutureWarning: `distplot` is a deprecated function and will be removed in a future version. Please adapt your code to use either `displot` (a figure-level function with similar flexibility) or `histplot` (an axes-level function for histograms).\n",
      "  warnings.warn(msg, FutureWarning)\n"
     ]
    },
    {
     "data": {
      "text/plain": [
       "<AxesSubplot:xlabel='Gross_Amount_Disbursed  ', ylabel='Density'>"
      ]
     },
     "execution_count": 113,
     "metadata": {},
     "output_type": "execute_result"
    },
    {
     "data": {
      "image/png": "[encoded data removed]",
      "text/plain": [
       "<Figure size 432x288 with 1 Axes>"
      ]
     },
     "metadata": {
      "needs_background": "light"
     },
     "output_type": "display_data"
    }
   ],
   "source": [
    "sns.distplot(df1[\"Gross_Amount_Disbursed  \"])"
   ]
  },
  {
   "cell_type": "code",
   "execution_count": 114,
   "id": "aa2aa24d",
   "metadata": {},
   "outputs": [],
   "source": [
    "df1[\"ChargedOff_Amount \"]=np.log(df1[\"ChargedOff_Amount \"]+1)"
   ]
  },
  {
   "cell_type": "code",
   "execution_count": 115,
   "id": "48209b03",
   "metadata": {},
   "outputs": [
    {
     "name": "stderr",
     "output_type": "stream",
     "text": [
      "C:\\Users\\Arun Sivaji\\Anaconda3\\lib\\site-packages\\seaborn\\distributions.py:2557: FutureWarning: `distplot` is a deprecated function and will be removed in a future version. Please adapt your code to use either `displot` (a figure-level function with similar flexibility) or `histplot` (an axes-level function for histograms).\n",
      "  warnings.warn(msg, FutureWarning)\n"
     ]
    },
    {
     "data": {
      "text/plain": [
       "<AxesSubplot:xlabel='ChargedOff_Amount ', ylabel='Density'>"
      ]
     },
     "execution_count": 115,
     "metadata": {},
     "output_type": "execute_result"
    },
    {
     "data": {
      "image/png": "[encoded data removed]",
      "text/plain": [
       "<Figure size 432x288 with 1 Axes>"
      ]
     },
     "metadata": {
      "needs_background": "light"
     },
     "output_type": "display_data"
    }
   ],
   "source": [
    "sns.distplot(df1[\"ChargedOff_Amount \"])"
   ]
  },
  {
   "cell_type": "code",
   "execution_count": 116,
   "id": "d5800e01",
   "metadata": {},
   "outputs": [],
   "source": [
    "df1[\"Primary_Loan_Digit\"]=np.log(df1[\"Primary_Loan_Digit\"]+1)"
   ]
  },
  {
   "cell_type": "code",
   "execution_count": 117,
   "id": "33e017d1",
   "metadata": {},
   "outputs": [
    {
     "name": "stderr",
     "output_type": "stream",
     "text": [
      "C:\\Users\\Arun Sivaji\\Anaconda3\\lib\\site-packages\\seaborn\\distributions.py:2557: FutureWarning: `distplot` is a deprecated function and will be removed in a future version. Please adapt your code to use either `displot` (a figure-level function with similar flexibility) or `histplot` (an axes-level function for histograms).\n",
      "  warnings.warn(msg, FutureWarning)\n"
     ]
    },
    {
     "data": {
      "text/plain": [
       "<AxesSubplot:xlabel='Primary_Loan_Digit', ylabel='Density'>"
      ]
     },
     "execution_count": 117,
     "metadata": {},
     "output_type": "execute_result"
    },
    {
     "data": {
      "image/png": "[encoded data removed]",
      "text/plain": [
       "<Figure size 432x288 with 1 Axes>"
      ]
     },
     "metadata": {
      "needs_background": "light"
     },
     "output_type": "display_data"
    }
   ],
   "source": [
    "sns.distplot(df1[\"Primary_Loan_Digit\"])"
   ]
  },
  {
   "cell_type": "code",
   "execution_count": 118,
   "id": "cd661f64",
   "metadata": {},
   "outputs": [],
   "source": [
    "df1[\"Loan_Term\"]=np.log(df1[\"Loan_Term\"]+1)"
   ]
  },
  {
   "cell_type": "code",
   "execution_count": 119,
   "id": "1bc48ab3",
   "metadata": {},
   "outputs": [
    {
     "name": "stderr",
     "output_type": "stream",
     "text": [
      "C:\\Users\\Arun Sivaji\\Anaconda3\\lib\\site-packages\\seaborn\\distributions.py:2557: FutureWarning: `distplot` is a deprecated function and will be removed in a future version. Please adapt your code to use either `displot` (a figure-level function with similar flexibility) or `histplot` (an axes-level function for histograms).\n",
      "  warnings.warn(msg, FutureWarning)\n"
     ]
    },
    {
     "data": {
      "text/plain": [
       "<AxesSubplot:xlabel='Loan_Term', ylabel='Density'>"
      ]
     },
     "execution_count": 119,
     "metadata": {},
     "output_type": "execute_result"
    },
    {
     "data": {
      "image/png": "[encoded data removed]",
      "text/plain": [
       "<Figure size 432x288 with 1 Axes>"
      ]
     },
     "metadata": {
      "needs_background": "light"
     },
     "output_type": "display_data"
    }
   ],
   "source": [
    "sns.distplot(df1[\"Loan_Term\"])"
   ]
  },
  {
   "cell_type": "code",
   "execution_count": 120,
   "id": "bc91263e",
   "metadata": {},
   "outputs": [
    {
     "data": {
      "text/html": [
       "<div>\n",
       "<style scoped>\n",
       "    .dataframe tbody tr th:only-of-type {\n",
       "        vertical-align: middle;\n",
       "    }\n",
       "\n",
       "    .dataframe tbody tr th {\n",
       "        vertical-align: top;\n",
       "    }\n",
       "\n",
       "    .dataframe thead th {\n",
       "        text-align: right;\n",
       "    }\n",
       "</style>\n",
       "<table border=\"1\" class=\"dataframe\">\n",
       "  <thead>\n",
       "    <tr style=\"text-align: right;\">\n",
       "      <th></th>\n",
       "      <th>ID</th>\n",
       "      <th>Business</th>\n",
       "      <th>Guaranteed_Approved _Loan</th>\n",
       "      <th>Low_Documentation_Loan</th>\n",
       "      <th>Demography</th>\n",
       "      <th>ChargedOff_Amount</th>\n",
       "      <th>Loan_Approved_Gross</th>\n",
       "      <th>Gross_Amount_Disbursed</th>\n",
       "      <th>Loan_Term</th>\n",
       "      <th>Primary_Loan_Digit</th>\n",
       "      <th>Default</th>\n",
       "    </tr>\n",
       "  </thead>\n",
       "  <tbody>\n",
       "    <tr>\n",
       "      <th>0</th>\n",
       "      <td>0</td>\n",
       "      <td>Existing</td>\n",
       "      <td>2.907758</td>\n",
       "      <td>No</td>\n",
       "      <td>Undefined</td>\n",
       "      <td>0.000000</td>\n",
       "      <td>2.918865</td>\n",
       "      <td>2.918865</td>\n",
       "      <td>1.765448</td>\n",
       "      <td>3.144555</td>\n",
       "      <td>0</td>\n",
       "    </tr>\n",
       "    <tr>\n",
       "      <th>1</th>\n",
       "      <td>1</td>\n",
       "      <td>New</td>\n",
       "      <td>2.907118</td>\n",
       "      <td>No</td>\n",
       "      <td>Urban</td>\n",
       "      <td>2.915635</td>\n",
       "      <td>2.922713</td>\n",
       "      <td>2.922713</td>\n",
       "      <td>1.761349</td>\n",
       "      <td>3.102775</td>\n",
       "      <td>1</td>\n",
       "    </tr>\n",
       "    <tr>\n",
       "      <th>2</th>\n",
       "      <td>2</td>\n",
       "      <td>Existing</td>\n",
       "      <td>2.719179</td>\n",
       "      <td>No</td>\n",
       "      <td>Urban</td>\n",
       "      <td>0.000000</td>\n",
       "      <td>2.763863</td>\n",
       "      <td>2.809452</td>\n",
       "      <td>1.706721</td>\n",
       "      <td>3.166886</td>\n",
       "      <td>0</td>\n",
       "    </tr>\n",
       "    <tr>\n",
       "      <th>3</th>\n",
       "      <td>3</td>\n",
       "      <td>New</td>\n",
       "      <td>2.742421</td>\n",
       "      <td>No</td>\n",
       "      <td>Urban</td>\n",
       "      <td>0.000000</td>\n",
       "      <td>2.786102</td>\n",
       "      <td>2.786102</td>\n",
       "      <td>1.765448</td>\n",
       "      <td>3.099471</td>\n",
       "      <td>0</td>\n",
       "    </tr>\n",
       "    <tr>\n",
       "      <th>4</th>\n",
       "      <td>4</td>\n",
       "      <td>Existing</td>\n",
       "      <td>2.887602</td>\n",
       "      <td>No</td>\n",
       "      <td>Urban</td>\n",
       "      <td>2.887312</td>\n",
       "      <td>2.903502</td>\n",
       "      <td>2.903502</td>\n",
       "      <td>1.732356</td>\n",
       "      <td>3.169997</td>\n",
       "      <td>1</td>\n",
       "    </tr>\n",
       "    <tr>\n",
       "      <th>...</th>\n",
       "      <td>...</td>\n",
       "      <td>...</td>\n",
       "      <td>...</td>\n",
       "      <td>...</td>\n",
       "      <td>...</td>\n",
       "      <td>...</td>\n",
       "      <td>...</td>\n",
       "      <td>...</td>\n",
       "      <td>...</td>\n",
       "      <td>...</td>\n",
       "      <td>...</td>\n",
       "    </tr>\n",
       "    <tr>\n",
       "      <th>104995</th>\n",
       "      <td>104995</td>\n",
       "      <td>New</td>\n",
       "      <td>2.800445</td>\n",
       "      <td>Yes</td>\n",
       "      <td>Undefined</td>\n",
       "      <td>0.000000</td>\n",
       "      <td>2.813917</td>\n",
       "      <td>2.813917</td>\n",
       "      <td>1.824307</td>\n",
       "      <td>3.118292</td>\n",
       "      <td>0</td>\n",
       "    </tr>\n",
       "    <tr>\n",
       "      <th>104996</th>\n",
       "      <td>104996</td>\n",
       "      <td>New</td>\n",
       "      <td>2.818297</td>\n",
       "      <td>Yes</td>\n",
       "      <td>Rural</td>\n",
       "      <td>0.000000</td>\n",
       "      <td>2.827954</td>\n",
       "      <td>2.827954</td>\n",
       "      <td>1.777095</td>\n",
       "      <td>3.162649</td>\n",
       "      <td>0</td>\n",
       "    </tr>\n",
       "    <tr>\n",
       "      <th>104997</th>\n",
       "      <td>104997</td>\n",
       "      <td>New</td>\n",
       "      <td>2.681586</td>\n",
       "      <td>No</td>\n",
       "      <td>Urban</td>\n",
       "      <td>2.693707</td>\n",
       "      <td>2.727944</td>\n",
       "      <td>2.727944</td>\n",
       "      <td>1.516302</td>\n",
       "      <td>3.102142</td>\n",
       "      <td>1</td>\n",
       "    </tr>\n",
       "    <tr>\n",
       "      <th>104998</th>\n",
       "      <td>104998</td>\n",
       "      <td>Existing</td>\n",
       "      <td>2.844677</td>\n",
       "      <td>No</td>\n",
       "      <td>Urban</td>\n",
       "      <td>0.000000</td>\n",
       "      <td>2.844677</td>\n",
       "      <td>2.839644</td>\n",
       "      <td>1.929908</td>\n",
       "      <td>3.121732</td>\n",
       "      <td>0</td>\n",
       "    </tr>\n",
       "    <tr>\n",
       "      <th>104999</th>\n",
       "      <td>104999</td>\n",
       "      <td>New</td>\n",
       "      <td>2.842218</td>\n",
       "      <td>Yes</td>\n",
       "      <td>Urban</td>\n",
       "      <td>0.000000</td>\n",
       "      <td>2.851648</td>\n",
       "      <td>2.851648</td>\n",
       "      <td>1.824307</td>\n",
       "      <td>3.149166</td>\n",
       "      <td>0</td>\n",
       "    </tr>\n",
       "  </tbody>\n",
       "</table>\n",
       "<p>105000 rows × 11 columns</p>\n",
       "</div>"
      ],
      "text/plain": [
       "            ID  Business  Guaranteed_Approved _Loan Low_Documentation_Loan  \\\n",
       "0            0  Existing                   2.907758                     No   \n",
       "1            1       New                   2.907118                     No   \n",
       "2            2  Existing                   2.719179                     No   \n",
       "3            3       New                   2.742421                     No   \n",
       "4            4  Existing                   2.887602                     No   \n",
       "...        ...       ...                        ...                    ...   \n",
       "104995  104995       New                   2.800445                    Yes   \n",
       "104996  104996       New                   2.818297                    Yes   \n",
       "104997  104997       New                   2.681586                     No   \n",
       "104998  104998  Existing                   2.844677                     No   \n",
       "104999  104999       New                   2.842218                    Yes   \n",
       "\n",
       "       Demography  ChargedOff_Amount   Loan_Approved_Gross  \\\n",
       "0       Undefined            0.000000             2.918865   \n",
       "1           Urban            2.915635             2.922713   \n",
       "2           Urban            0.000000             2.763863   \n",
       "3           Urban            0.000000             2.786102   \n",
       "4           Urban            2.887312             2.903502   \n",
       "...           ...                 ...                  ...   \n",
       "104995  Undefined            0.000000             2.813917   \n",
       "104996      Rural            0.000000             2.827954   \n",
       "104997      Urban            2.693707             2.727944   \n",
       "104998      Urban            0.000000             2.844677   \n",
       "104999      Urban            0.000000             2.851648   \n",
       "\n",
       "        Gross_Amount_Disbursed    Loan_Term  Primary_Loan_Digit Default  \n",
       "0                       2.918865   1.765448            3.144555       0  \n",
       "1                       2.922713   1.761349            3.102775       1  \n",
       "2                       2.809452   1.706721            3.166886       0  \n",
       "3                       2.786102   1.765448            3.099471       0  \n",
       "4                       2.903502   1.732356            3.169997       1  \n",
       "...                          ...        ...                 ...     ...  \n",
       "104995                  2.813917   1.824307            3.118292       0  \n",
       "104996                  2.827954   1.777095            3.162649       0  \n",
       "104997                  2.727944   1.516302            3.102142       1  \n",
       "104998                  2.839644   1.929908            3.121732       0  \n",
       "104999                  2.851648   1.824307            3.149166       0  \n",
       "\n",
       "[105000 rows x 11 columns]"
      ]
     },
     "execution_count": 120,
     "metadata": {},
     "output_type": "execute_result"
    }
   ],
   "source": [
    "df1"
   ]
  },
  {
   "cell_type": "code",
   "execution_count": 121,
   "id": "35ca7cf4",
   "metadata": {},
   "outputs": [
    {
     "data": {
      "text/html": [
       "<div>\n",
       "<style scoped>\n",
       "    .dataframe tbody tr th:only-of-type {\n",
       "        vertical-align: middle;\n",
       "    }\n",
       "\n",
       "    .dataframe tbody tr th {\n",
       "        vertical-align: top;\n",
       "    }\n",
       "\n",
       "    .dataframe thead th {\n",
       "        text-align: right;\n",
       "    }\n",
       "</style>\n",
       "<table border=\"1\" class=\"dataframe\">\n",
       "  <thead>\n",
       "    <tr style=\"text-align: right;\">\n",
       "      <th></th>\n",
       "      <th>ID</th>\n",
       "      <th>Guaranteed_Approved _Loan</th>\n",
       "      <th>ChargedOff_Amount</th>\n",
       "      <th>Loan_Approved_Gross</th>\n",
       "      <th>Gross_Amount_Disbursed</th>\n",
       "      <th>Loan_Term</th>\n",
       "      <th>Primary_Loan_Digit</th>\n",
       "      <th>Business_Existing</th>\n",
       "      <th>Business_New</th>\n",
       "      <th>Low_Documentation_Loan_A</th>\n",
       "      <th>Low_Documentation_Loan_C</th>\n",
       "      <th>Low_Documentation_Loan_No</th>\n",
       "      <th>Low_Documentation_Loan_R</th>\n",
       "      <th>Low_Documentation_Loan_S</th>\n",
       "      <th>Low_Documentation_Loan_Yes</th>\n",
       "      <th>Demography_Undefined</th>\n",
       "      <th>Demography_Urban</th>\n",
       "      <th>Default_1</th>\n",
       "    </tr>\n",
       "  </thead>\n",
       "  <tbody>\n",
       "    <tr>\n",
       "      <th>0</th>\n",
       "      <td>0</td>\n",
       "      <td>2.907758</td>\n",
       "      <td>0.000000</td>\n",
       "      <td>2.918865</td>\n",
       "      <td>2.918865</td>\n",
       "      <td>1.765448</td>\n",
       "      <td>3.144555</td>\n",
       "      <td>1</td>\n",
       "      <td>0</td>\n",
       "      <td>0</td>\n",
       "      <td>0</td>\n",
       "      <td>1</td>\n",
       "      <td>0</td>\n",
       "      <td>0</td>\n",
       "      <td>0</td>\n",
       "      <td>1</td>\n",
       "      <td>0</td>\n",
       "      <td>0</td>\n",
       "    </tr>\n",
       "    <tr>\n",
       "      <th>1</th>\n",
       "      <td>1</td>\n",
       "      <td>2.907118</td>\n",
       "      <td>2.915635</td>\n",
       "      <td>2.922713</td>\n",
       "      <td>2.922713</td>\n",
       "      <td>1.761349</td>\n",
       "      <td>3.102775</td>\n",
       "      <td>0</td>\n",
       "      <td>1</td>\n",
       "      <td>0</td>\n",
       "      <td>0</td>\n",
       "      <td>1</td>\n",
       "      <td>0</td>\n",
       "      <td>0</td>\n",
       "      <td>0</td>\n",
       "      <td>0</td>\n",
       "      <td>1</td>\n",
       "      <td>1</td>\n",
       "    </tr>\n",
       "    <tr>\n",
       "      <th>2</th>\n",
       "      <td>2</td>\n",
       "      <td>2.719179</td>\n",
       "      <td>0.000000</td>\n",
       "      <td>2.763863</td>\n",
       "      <td>2.809452</td>\n",
       "      <td>1.706721</td>\n",
       "      <td>3.166886</td>\n",
       "      <td>1</td>\n",
       "      <td>0</td>\n",
       "      <td>0</td>\n",
       "      <td>0</td>\n",
       "      <td>1</td>\n",
       "      <td>0</td>\n",
       "      <td>0</td>\n",
       "      <td>0</td>\n",
       "      <td>0</td>\n",
       "      <td>1</td>\n",
       "      <td>0</td>\n",
       "    </tr>\n",
       "    <tr>\n",
       "      <th>3</th>\n",
       "      <td>3</td>\n",
       "      <td>2.742421</td>\n",
       "      <td>0.000000</td>\n",
       "      <td>2.786102</td>\n",
       "      <td>2.786102</td>\n",
       "      <td>1.765448</td>\n",
       "      <td>3.099471</td>\n",
       "      <td>0</td>\n",
       "      <td>1</td>\n",
       "      <td>0</td>\n",
       "      <td>0</td>\n",
       "      <td>1</td>\n",
       "      <td>0</td>\n",
       "      <td>0</td>\n",
       "      <td>0</td>\n",
       "      <td>0</td>\n",
       "      <td>1</td>\n",
       "      <td>0</td>\n",
       "    </tr>\n",
       "    <tr>\n",
       "      <th>4</th>\n",
       "      <td>4</td>\n",
       "      <td>2.887602</td>\n",
       "      <td>2.887312</td>\n",
       "      <td>2.903502</td>\n",
       "      <td>2.903502</td>\n",
       "      <td>1.732356</td>\n",
       "      <td>3.169997</td>\n",
       "      <td>1</td>\n",
       "      <td>0</td>\n",
       "      <td>0</td>\n",
       "      <td>0</td>\n",
       "      <td>1</td>\n",
       "      <td>0</td>\n",
       "      <td>0</td>\n",
       "      <td>0</td>\n",
       "      <td>0</td>\n",
       "      <td>1</td>\n",
       "      <td>1</td>\n",
       "    </tr>\n",
       "    <tr>\n",
       "      <th>...</th>\n",
       "      <td>...</td>\n",
       "      <td>...</td>\n",
       "      <td>...</td>\n",
       "      <td>...</td>\n",
       "      <td>...</td>\n",
       "      <td>...</td>\n",
       "      <td>...</td>\n",
       "      <td>...</td>\n",
       "      <td>...</td>\n",
       "      <td>...</td>\n",
       "      <td>...</td>\n",
       "      <td>...</td>\n",
       "      <td>...</td>\n",
       "      <td>...</td>\n",
       "      <td>...</td>\n",
       "      <td>...</td>\n",
       "      <td>...</td>\n",
       "      <td>...</td>\n",
       "    </tr>\n",
       "    <tr>\n",
       "      <th>104995</th>\n",
       "      <td>104995</td>\n",
       "      <td>2.800445</td>\n",
       "      <td>0.000000</td>\n",
       "      <td>2.813917</td>\n",
       "      <td>2.813917</td>\n",
       "      <td>1.824307</td>\n",
       "      <td>3.118292</td>\n",
       "      <td>0</td>\n",
       "      <td>1</td>\n",
       "      <td>0</td>\n",
       "      <td>0</td>\n",
       "      <td>0</td>\n",
       "      <td>0</td>\n",
       "      <td>0</td>\n",
       "      <td>1</td>\n",
       "      <td>1</td>\n",
       "      <td>0</td>\n",
       "      <td>0</td>\n",
       "    </tr>\n",
       "    <tr>\n",
       "      <th>104996</th>\n",
       "      <td>104996</td>\n",
       "      <td>2.818297</td>\n",
       "      <td>0.000000</td>\n",
       "      <td>2.827954</td>\n",
       "      <td>2.827954</td>\n",
       "      <td>1.777095</td>\n",
       "      <td>3.162649</td>\n",
       "      <td>0</td>\n",
       "      <td>1</td>\n",
       "      <td>0</td>\n",
       "      <td>0</td>\n",
       "      <td>0</td>\n",
       "      <td>0</td>\n",
       "      <td>0</td>\n",
       "      <td>1</td>\n",
       "      <td>0</td>\n",
       "      <td>0</td>\n",
       "      <td>0</td>\n",
       "    </tr>\n",
       "    <tr>\n",
       "      <th>104997</th>\n",
       "      <td>104997</td>\n",
       "      <td>2.681586</td>\n",
       "      <td>2.693707</td>\n",
       "      <td>2.727944</td>\n",
       "      <td>2.727944</td>\n",
       "      <td>1.516302</td>\n",
       "      <td>3.102142</td>\n",
       "      <td>0</td>\n",
       "      <td>1</td>\n",
       "      <td>0</td>\n",
       "      <td>0</td>\n",
       "      <td>1</td>\n",
       "      <td>0</td>\n",
       "      <td>0</td>\n",
       "      <td>0</td>\n",
       "      <td>0</td>\n",
       "      <td>1</td>\n",
       "      <td>1</td>\n",
       "    </tr>\n",
       "    <tr>\n",
       "      <th>104998</th>\n",
       "      <td>104998</td>\n",
       "      <td>2.844677</td>\n",
       "      <td>0.000000</td>\n",
       "      <td>2.844677</td>\n",
       "      <td>2.839644</td>\n",
       "      <td>1.929908</td>\n",
       "      <td>3.121732</td>\n",
       "      <td>1</td>\n",
       "      <td>0</td>\n",
       "      <td>0</td>\n",
       "      <td>0</td>\n",
       "      <td>1</td>\n",
       "      <td>0</td>\n",
       "      <td>0</td>\n",
       "      <td>0</td>\n",
       "      <td>0</td>\n",
       "      <td>1</td>\n",
       "      <td>0</td>\n",
       "    </tr>\n",
       "    <tr>\n",
       "      <th>104999</th>\n",
       "      <td>104999</td>\n",
       "      <td>2.842218</td>\n",
       "      <td>0.000000</td>\n",
       "      <td>2.851648</td>\n",
       "      <td>2.851648</td>\n",
       "      <td>1.824307</td>\n",
       "      <td>3.149166</td>\n",
       "      <td>0</td>\n",
       "      <td>1</td>\n",
       "      <td>0</td>\n",
       "      <td>0</td>\n",
       "      <td>0</td>\n",
       "      <td>0</td>\n",
       "      <td>0</td>\n",
       "      <td>1</td>\n",
       "      <td>0</td>\n",
       "      <td>1</td>\n",
       "      <td>0</td>\n",
       "    </tr>\n",
       "  </tbody>\n",
       "</table>\n",
       "<p>105000 rows × 18 columns</p>\n",
       "</div>"
      ],
      "text/plain": [
       "            ID  Guaranteed_Approved _Loan  ChargedOff_Amount   \\\n",
       "0            0                   2.907758            0.000000   \n",
       "1            1                   2.907118            2.915635   \n",
       "2            2                   2.719179            0.000000   \n",
       "3            3                   2.742421            0.000000   \n",
       "4            4                   2.887602            2.887312   \n",
       "...        ...                        ...                 ...   \n",
       "104995  104995                   2.800445            0.000000   \n",
       "104996  104996                   2.818297            0.000000   \n",
       "104997  104997                   2.681586            2.693707   \n",
       "104998  104998                   2.844677            0.000000   \n",
       "104999  104999                   2.842218            0.000000   \n",
       "\n",
       "        Loan_Approved_Gross  Gross_Amount_Disbursed    Loan_Term  \\\n",
       "0                  2.918865                  2.918865   1.765448   \n",
       "1                  2.922713                  2.922713   1.761349   \n",
       "2                  2.763863                  2.809452   1.706721   \n",
       "3                  2.786102                  2.786102   1.765448   \n",
       "4                  2.903502                  2.903502   1.732356   \n",
       "...                     ...                       ...        ...   \n",
       "104995             2.813917                  2.813917   1.824307   \n",
       "104996             2.827954                  2.827954   1.777095   \n",
       "104997             2.727944                  2.727944   1.516302   \n",
       "104998             2.844677                  2.839644   1.929908   \n",
       "104999             2.851648                  2.851648   1.824307   \n",
       "\n",
       "        Primary_Loan_Digit  Business_Existing  Business_New  \\\n",
       "0                 3.144555                  1             0   \n",
       "1                 3.102775                  0             1   \n",
       "2                 3.166886                  1             0   \n",
       "3                 3.099471                  0             1   \n",
       "4                 3.169997                  1             0   \n",
       "...                    ...                ...           ...   \n",
       "104995            3.118292                  0             1   \n",
       "104996            3.162649                  0             1   \n",
       "104997            3.102142                  0             1   \n",
       "104998            3.121732                  1             0   \n",
       "104999            3.149166                  0             1   \n",
       "\n",
       "        Low_Documentation_Loan_A  Low_Documentation_Loan_C  \\\n",
       "0                              0                         0   \n",
       "1                              0                         0   \n",
       "2                              0                         0   \n",
       "3                              0                         0   \n",
       "4                              0                         0   \n",
       "...                          ...                       ...   \n",
       "104995                         0                         0   \n",
       "104996                         0                         0   \n",
       "104997                         0                         0   \n",
       "104998                         0                         0   \n",
       "104999                         0                         0   \n",
       "\n",
       "        Low_Documentation_Loan_No  Low_Documentation_Loan_R  \\\n",
       "0                               1                         0   \n",
       "1                               1                         0   \n",
       "2                               1                         0   \n",
       "3                               1                         0   \n",
       "4                               1                         0   \n",
       "...                           ...                       ...   \n",
       "104995                          0                         0   \n",
       "104996                          0                         0   \n",
       "104997                          1                         0   \n",
       "104998                          1                         0   \n",
       "104999                          0                         0   \n",
       "\n",
       "        Low_Documentation_Loan_S  Low_Documentation_Loan_Yes  \\\n",
       "0                              0                           0   \n",
       "1                              0                           0   \n",
       "2                              0                           0   \n",
       "3                              0                           0   \n",
       "4                              0                           0   \n",
       "...                          ...                         ...   \n",
       "104995                         0                           1   \n",
       "104996                         0                           1   \n",
       "104997                         0                           0   \n",
       "104998                         0                           0   \n",
       "104999                         0                           1   \n",
       "\n",
       "        Demography_Undefined  Demography_Urban  Default_1  \n",
       "0                          1                 0          0  \n",
       "1                          0                 1          1  \n",
       "2                          0                 1          0  \n",
       "3                          0                 1          0  \n",
       "4                          0                 1          1  \n",
       "...                      ...               ...        ...  \n",
       "104995                     1                 0          0  \n",
       "104996                     0                 0          0  \n",
       "104997                     0                 1          1  \n",
       "104998                     0                 1          0  \n",
       "104999                     0                 1          0  \n",
       "\n",
       "[105000 rows x 18 columns]"
      ]
     },
     "execution_count": 121,
     "metadata": {},
     "output_type": "execute_result"
    }
   ],
   "source": [
    "df1_dummy = pd.get_dummies(df1,drop_first=True)\n",
    "df1_dummy"
   ]
  },
  {
   "cell_type": "code",
   "execution_count": 122,
   "id": "e47117e0",
   "metadata": {},
   "outputs": [
    {
     "data": {
      "text/plain": [
       "ID                              int64\n",
       "Guaranteed_Approved _Loan     float64\n",
       "ChargedOff_Amount             float64\n",
       "Loan_Approved_Gross           float64\n",
       "Gross_Amount_Disbursed        float64\n",
       "Loan_Term                     float64\n",
       "Primary_Loan_Digit            float64\n",
       "Business_Existing               uint8\n",
       "Business_New                    uint8\n",
       "Low_Documentation_Loan_A        uint8\n",
       "Low_Documentation_Loan_C        uint8\n",
       "Low_Documentation_Loan_No       uint8\n",
       "Low_Documentation_Loan_R        uint8\n",
       "Low_Documentation_Loan_S        uint8\n",
       "Low_Documentation_Loan_Yes      uint8\n",
       "Demography_Undefined            uint8\n",
       "Demography_Urban                uint8\n",
       "Default_1                       uint8\n",
       "dtype: object"
      ]
     },
     "execution_count": 122,
     "metadata": {},
     "output_type": "execute_result"
    }
   ],
   "source": [
    "df1_dummy.dtypes"
   ]
  },
  {
   "cell_type": "code",
   "execution_count": 164,
   "id": "bdbf2251",
   "metadata": {},
   "outputs": [],
   "source": [
    "from sklearn.utils import resample\n",
    "#create two different dataframe of majority and minority class \n",
    "df_majority = df1_dummy[(df1_dummy['Default']==0)] \n",
    "df_minority = df1_dummy[(df1_dummy['Default']==1)] \n",
    "# upsample minority class\n",
    "df_minority_upsampled = resample(df_minority, \n",
    "                                 replace=True,    # sample with replacement\n",
    "                                 n_samples= 131177, # to match majority class\n",
    "                                 random_state=42)  # reproducible results\n",
    "# Combine majority class with upsampled minority class\n",
    "df2_dummy = pd.concat([df_minority_upsampled, df_majority])"
   ]
  },
  {
   "cell_type": "code",
   "execution_count": 165,
   "id": "725d0924",
   "metadata": {},
   "outputs": [
    {
     "data": {
      "text/plain": [
       "1    0.633482\n",
       "0    0.366518\n",
       "Name: Default, dtype: float64"
      ]
     },
     "execution_count": 165,
     "metadata": {},
     "output_type": "execute_result"
    }
   ],
   "source": [
    "df2_dummy.Default.value_counts(normalize=\"True\")"
   ]
  },
  {
   "cell_type": "code",
   "execution_count": 166,
   "id": "ba9e237e",
   "metadata": {},
   "outputs": [],
   "source": [
    "df2_dummy.rename(columns = {'Default_1':'Default'}, inplace = True)"
   ]
  },
  {
   "cell_type": "code",
   "execution_count": 167,
   "id": "8b3e6021",
   "metadata": {},
   "outputs": [],
   "source": [
    "x = df2_dummy.drop(\"Default\",axis=1)\n",
    "\n",
    "y=df2_dummy[\"Default\"]"
   ]
  },
  {
   "cell_type": "code",
   "execution_count": 168,
   "id": "08a4b1da",
   "metadata": {},
   "outputs": [
    {
     "data": {
      "text/html": [
       "<div>\n",
       "<style scoped>\n",
       "    .dataframe tbody tr th:only-of-type {\n",
       "        vertical-align: middle;\n",
       "    }\n",
       "\n",
       "    .dataframe tbody tr th {\n",
       "        vertical-align: top;\n",
       "    }\n",
       "\n",
       "    .dataframe thead th {\n",
       "        text-align: right;\n",
       "    }\n",
       "</style>\n",
       "<table border=\"1\" class=\"dataframe\">\n",
       "  <thead>\n",
       "    <tr style=\"text-align: right;\">\n",
       "      <th></th>\n",
       "      <th>ID</th>\n",
       "      <th>Guaranteed_Approved _Loan</th>\n",
       "      <th>ChargedOff_Amount</th>\n",
       "      <th>Loan_Approved_Gross</th>\n",
       "      <th>Gross_Amount_Disbursed</th>\n",
       "      <th>Loan_Term</th>\n",
       "      <th>Primary_Loan_Digit</th>\n",
       "      <th>Business_Existing</th>\n",
       "      <th>Business_New</th>\n",
       "      <th>Low_Documentation_Loan_A</th>\n",
       "      <th>Low_Documentation_Loan_C</th>\n",
       "      <th>Low_Documentation_Loan_No</th>\n",
       "      <th>Low_Documentation_Loan_R</th>\n",
       "      <th>Low_Documentation_Loan_S</th>\n",
       "      <th>Low_Documentation_Loan_Yes</th>\n",
       "      <th>Demography_Undefined</th>\n",
       "      <th>Demography_Urban</th>\n",
       "    </tr>\n",
       "  </thead>\n",
       "  <tbody>\n",
       "    <tr>\n",
       "      <th>85409</th>\n",
       "      <td>85409</td>\n",
       "      <td>2.742421</td>\n",
       "      <td>2.783862</td>\n",
       "      <td>2.786102</td>\n",
       "      <td>2.827954</td>\n",
       "      <td>1.738947</td>\n",
       "      <td>3.119696</td>\n",
       "      <td>1</td>\n",
       "      <td>0</td>\n",
       "      <td>0</td>\n",
       "      <td>0</td>\n",
       "      <td>1</td>\n",
       "      <td>0</td>\n",
       "      <td>0</td>\n",
       "      <td>0</td>\n",
       "      <td>0</td>\n",
       "      <td>1</td>\n",
       "    </tr>\n",
       "    <tr>\n",
       "      <th>57007</th>\n",
       "      <td>57007</td>\n",
       "      <td>2.670398</td>\n",
       "      <td>2.673125</td>\n",
       "      <td>2.681586</td>\n",
       "      <td>2.681586</td>\n",
       "      <td>1.725463</td>\n",
       "      <td>3.118587</td>\n",
       "      <td>1</td>\n",
       "      <td>0</td>\n",
       "      <td>0</td>\n",
       "      <td>0</td>\n",
       "      <td>1</td>\n",
       "      <td>0</td>\n",
       "      <td>0</td>\n",
       "      <td>0</td>\n",
       "      <td>0</td>\n",
       "      <td>1</td>\n",
       "    </tr>\n",
       "    <tr>\n",
       "      <th>2902</th>\n",
       "      <td>2902</td>\n",
       "      <td>2.786102</td>\n",
       "      <td>2.825593</td>\n",
       "      <td>2.827954</td>\n",
       "      <td>2.860190</td>\n",
       "      <td>1.499490</td>\n",
       "      <td>3.168865</td>\n",
       "      <td>1</td>\n",
       "      <td>0</td>\n",
       "      <td>0</td>\n",
       "      <td>0</td>\n",
       "      <td>1</td>\n",
       "      <td>0</td>\n",
       "      <td>0</td>\n",
       "      <td>0</td>\n",
       "      <td>0</td>\n",
       "      <td>1</td>\n",
       "    </tr>\n",
       "    <tr>\n",
       "      <th>19376</th>\n",
       "      <td>19376</td>\n",
       "      <td>2.792184</td>\n",
       "      <td>2.773806</td>\n",
       "      <td>2.805767</td>\n",
       "      <td>2.805767</td>\n",
       "      <td>1.777095</td>\n",
       "      <td>3.130087</td>\n",
       "      <td>0</td>\n",
       "      <td>1</td>\n",
       "      <td>0</td>\n",
       "      <td>0</td>\n",
       "      <td>0</td>\n",
       "      <td>0</td>\n",
       "      <td>0</td>\n",
       "      <td>1</td>\n",
       "      <td>0</td>\n",
       "      <td>1</td>\n",
       "    </tr>\n",
       "    <tr>\n",
       "      <th>77989</th>\n",
       "      <td>77989</td>\n",
       "      <td>2.903312</td>\n",
       "      <td>2.842531</td>\n",
       "      <td>2.912186</td>\n",
       "      <td>2.912186</td>\n",
       "      <td>1.931109</td>\n",
       "      <td>3.130070</td>\n",
       "      <td>1</td>\n",
       "      <td>0</td>\n",
       "      <td>0</td>\n",
       "      <td>0</td>\n",
       "      <td>1</td>\n",
       "      <td>0</td>\n",
       "      <td>0</td>\n",
       "      <td>0</td>\n",
       "      <td>1</td>\n",
       "      <td>0</td>\n",
       "    </tr>\n",
       "  </tbody>\n",
       "</table>\n",
       "</div>"
      ],
      "text/plain": [
       "          ID  Guaranteed_Approved _Loan  ChargedOff_Amount   \\\n",
       "85409  85409                   2.742421            2.783862   \n",
       "57007  57007                   2.670398            2.673125   \n",
       "2902    2902                   2.786102            2.825593   \n",
       "19376  19376                   2.792184            2.773806   \n",
       "77989  77989                   2.903312            2.842531   \n",
       "\n",
       "       Loan_Approved_Gross  Gross_Amount_Disbursed    Loan_Term  \\\n",
       "85409             2.786102                  2.827954   1.738947   \n",
       "57007             2.681586                  2.681586   1.725463   \n",
       "2902              2.827954                  2.860190   1.499490   \n",
       "19376             2.805767                  2.805767   1.777095   \n",
       "77989             2.912186                  2.912186   1.931109   \n",
       "\n",
       "       Primary_Loan_Digit  Business_Existing  Business_New  \\\n",
       "85409            3.119696                  1             0   \n",
       "57007            3.118587                  1             0   \n",
       "2902             3.168865                  1             0   \n",
       "19376            3.130087                  0             1   \n",
       "77989            3.130070                  1             0   \n",
       "\n",
       "       Low_Documentation_Loan_A  Low_Documentation_Loan_C  \\\n",
       "85409                         0                         0   \n",
       "57007                         0                         0   \n",
       "2902                          0                         0   \n",
       "19376                         0                         0   \n",
       "77989                         0                         0   \n",
       "\n",
       "       Low_Documentation_Loan_No  Low_Documentation_Loan_R  \\\n",
       "85409                          1                         0   \n",
       "57007                          1                         0   \n",
       "2902                           1                         0   \n",
       "19376                          0                         0   \n",
       "77989                          1                         0   \n",
       "\n",
       "       Low_Documentation_Loan_S  Low_Documentation_Loan_Yes  \\\n",
       "85409                         0                           0   \n",
       "57007                         0                           0   \n",
       "2902                          0                           0   \n",
       "19376                         0                           1   \n",
       "77989                         0                           0   \n",
       "\n",
       "       Demography_Undefined  Demography_Urban  \n",
       "85409                     0                 1  \n",
       "57007                     0                 1  \n",
       "2902                      0                 1  \n",
       "19376                     0                 1  \n",
       "77989                     1                 0  "
      ]
     },
     "execution_count": 168,
     "metadata": {},
     "output_type": "execute_result"
    }
   ],
   "source": [
    "x.head()"
   ]
  },
  {
   "cell_type": "code",
   "execution_count": 169,
   "id": "0bda9baf",
   "metadata": {},
   "outputs": [
    {
     "data": {
      "text/plain": [
       "85409     1\n",
       "57007     1\n",
       "2902      1\n",
       "19376     1\n",
       "77989     1\n",
       "43080     1\n",
       "40642     1\n",
       "79927     1\n",
       "22437     1\n",
       "60997     1\n",
       "15856     1\n",
       "79385     1\n",
       "51988     1\n",
       "101194    1\n",
       "40942     1\n",
       "99336     1\n",
       "57885     1\n",
       "29904     1\n",
       "5836      1\n",
       "2603      1\n",
       "Name: Default, dtype: uint8"
      ]
     },
     "execution_count": 169,
     "metadata": {},
     "output_type": "execute_result"
    }
   ],
   "source": [
    "y.head(20)"
   ]
  },
  {
   "cell_type": "code",
   "execution_count": 170,
   "id": "74856825",
   "metadata": {},
   "outputs": [],
   "source": [
    "from sklearn.model_selection import train_test_split\n",
    "x_train,x_test, y_train, y_test=train_test_split(x,y,train_size=0.7, random_state=42)"
   ]
  },
  {
   "cell_type": "code",
   "execution_count": 173,
   "id": "f125b7c3",
   "metadata": {},
   "outputs": [],
   "source": [
    "X_validation= pd.read_csv(\"Test_data.csv\")"
   ]
  },
  {
   "cell_type": "code",
   "execution_count": 174,
   "id": "ee36fc74",
   "metadata": {},
   "outputs": [
    {
     "data": {
      "text/html": [
       "<div>\n",
       "<style scoped>\n",
       "    .dataframe tbody tr th:only-of-type {\n",
       "        vertical-align: middle;\n",
       "    }\n",
       "\n",
       "    .dataframe tbody tr th {\n",
       "        vertical-align: top;\n",
       "    }\n",
       "\n",
       "    .dataframe thead th {\n",
       "        text-align: right;\n",
       "    }\n",
       "</style>\n",
       "<table border=\"1\" class=\"dataframe\">\n",
       "  <thead>\n",
       "    <tr style=\"text-align: right;\">\n",
       "      <th></th>\n",
       "      <th>ID</th>\n",
       "      <th>Guaranteed_Approved _Loan</th>\n",
       "      <th>ChargedOff_Amount</th>\n",
       "      <th>Loan_Approved_Gross</th>\n",
       "      <th>Gross_Amount_Disbursed</th>\n",
       "      <th>Loan_Term</th>\n",
       "      <th>Primary_Loan_Digit</th>\n",
       "      <th>Business_Existing</th>\n",
       "      <th>Business_New</th>\n",
       "      <th>Low_Documentation_Loan_A</th>\n",
       "      <th>Low_Documentation_Loan_C</th>\n",
       "      <th>Low_Documentation_Loan_No</th>\n",
       "      <th>Low_Documentation_Loan_R</th>\n",
       "      <th>Low_Documentation_Loan_S</th>\n",
       "      <th>Low_Documentation_Loan_Yes</th>\n",
       "      <th>Demography_Undefined</th>\n",
       "      <th>Demography_Urban</th>\n",
       "      <th>Revolving_Credit_Line_Yes</th>\n",
       "    </tr>\n",
       "  </thead>\n",
       "  <tbody>\n",
       "    <tr>\n",
       "      <th>0</th>\n",
       "      <td>105000</td>\n",
       "      <td>2.786102</td>\n",
       "      <td>2.827389</td>\n",
       "      <td>2.827954</td>\n",
       "      <td>2.836539</td>\n",
       "      <td>1.621454</td>\n",
       "      <td>21.255554</td>\n",
       "      <td>1</td>\n",
       "      <td>0</td>\n",
       "      <td>0</td>\n",
       "      <td>0</td>\n",
       "      <td>1</td>\n",
       "      <td>0</td>\n",
       "      <td>0</td>\n",
       "      <td>0</td>\n",
       "      <td>0</td>\n",
       "      <td>1</td>\n",
       "      <td>1</td>\n",
       "    </tr>\n",
       "    <tr>\n",
       "      <th>1</th>\n",
       "      <td>105001</td>\n",
       "      <td>2.721034</td>\n",
       "      <td>0.000000</td>\n",
       "      <td>2.727944</td>\n",
       "      <td>2.727944</td>\n",
       "      <td>1.706721</td>\n",
       "      <td>22.791246</td>\n",
       "      <td>1</td>\n",
       "      <td>0</td>\n",
       "      <td>0</td>\n",
       "      <td>0</td>\n",
       "      <td>0</td>\n",
       "      <td>0</td>\n",
       "      <td>0</td>\n",
       "      <td>1</td>\n",
       "      <td>1</td>\n",
       "      <td>0</td>\n",
       "      <td>0</td>\n",
       "    </tr>\n",
       "    <tr>\n",
       "      <th>2</th>\n",
       "      <td>105002</td>\n",
       "      <td>2.681586</td>\n",
       "      <td>2.727944</td>\n",
       "      <td>2.727944</td>\n",
       "      <td>2.775957</td>\n",
       "      <td>1.687642</td>\n",
       "      <td>21.582616</td>\n",
       "      <td>1</td>\n",
       "      <td>0</td>\n",
       "      <td>0</td>\n",
       "      <td>0</td>\n",
       "      <td>1</td>\n",
       "      <td>0</td>\n",
       "      <td>0</td>\n",
       "      <td>0</td>\n",
       "      <td>0</td>\n",
       "      <td>1</td>\n",
       "      <td>1</td>\n",
       "    </tr>\n",
       "    <tr>\n",
       "      <th>3</th>\n",
       "      <td>105003</td>\n",
       "      <td>2.742421</td>\n",
       "      <td>0.000000</td>\n",
       "      <td>2.786102</td>\n",
       "      <td>2.818361</td>\n",
       "      <td>1.487009</td>\n",
       "      <td>22.062118</td>\n",
       "      <td>0</td>\n",
       "      <td>1</td>\n",
       "      <td>0</td>\n",
       "      <td>0</td>\n",
       "      <td>1</td>\n",
       "      <td>0</td>\n",
       "      <td>0</td>\n",
       "      <td>0</td>\n",
       "      <td>0</td>\n",
       "      <td>1</td>\n",
       "      <td>1</td>\n",
       "    </tr>\n",
       "    <tr>\n",
       "      <th>4</th>\n",
       "      <td>105004</td>\n",
       "      <td>2.888771</td>\n",
       "      <td>0.000000</td>\n",
       "      <td>2.904653</td>\n",
       "      <td>2.904653</td>\n",
       "      <td>1.855302</td>\n",
       "      <td>22.901448</td>\n",
       "      <td>1</td>\n",
       "      <td>0</td>\n",
       "      <td>0</td>\n",
       "      <td>0</td>\n",
       "      <td>1</td>\n",
       "      <td>0</td>\n",
       "      <td>0</td>\n",
       "      <td>0</td>\n",
       "      <td>0</td>\n",
       "      <td>0</td>\n",
       "      <td>0</td>\n",
       "    </tr>\n",
       "  </tbody>\n",
       "</table>\n",
       "</div>"
      ],
      "text/plain": [
       "       ID  Guaranteed_Approved _Loan  ChargedOff_Amount   Loan_Approved_Gross  \\\n",
       "0  105000                   2.786102            2.827389             2.827954   \n",
       "1  105001                   2.721034            0.000000             2.727944   \n",
       "2  105002                   2.681586            2.727944             2.727944   \n",
       "3  105003                   2.742421            0.000000             2.786102   \n",
       "4  105004                   2.888771            0.000000             2.904653   \n",
       "\n",
       "   Gross_Amount_Disbursed    Loan_Term  Primary_Loan_Digit  Business_Existing  \\\n",
       "0                  2.836539   1.621454           21.255554                  1   \n",
       "1                  2.727944   1.706721           22.791246                  1   \n",
       "2                  2.775957   1.687642           21.582616                  1   \n",
       "3                  2.818361   1.487009           22.062118                  0   \n",
       "4                  2.904653   1.855302           22.901448                  1   \n",
       "\n",
       "   Business_New  Low_Documentation_Loan_A  Low_Documentation_Loan_C  \\\n",
       "0             0                         0                         0   \n",
       "1             0                         0                         0   \n",
       "2             0                         0                         0   \n",
       "3             1                         0                         0   \n",
       "4             0                         0                         0   \n",
       "\n",
       "   Low_Documentation_Loan_No  Low_Documentation_Loan_R  \\\n",
       "0                          1                         0   \n",
       "1                          0                         0   \n",
       "2                          1                         0   \n",
       "3                          1                         0   \n",
       "4                          1                         0   \n",
       "\n",
       "   Low_Documentation_Loan_S  Low_Documentation_Loan_Yes  Demography_Undefined  \\\n",
       "0                         0                           0                     0   \n",
       "1                         0                           1                     1   \n",
       "2                         0                           0                     0   \n",
       "3                         0                           0                     0   \n",
       "4                         0                           0                     0   \n",
       "\n",
       "   Demography_Urban  Revolving_Credit_Line_Yes  \n",
       "0                 1                          1  \n",
       "1                 0                          0  \n",
       "2                 1                          1  \n",
       "3                 1                          1  \n",
       "4                 0                          0  "
      ]
     },
     "execution_count": 174,
     "metadata": {},
     "output_type": "execute_result"
    }
   ],
   "source": [
    "X_validation.head()"
   ]
  },
  {
   "cell_type": "code",
   "execution_count": 175,
   "id": "eb470bc5",
   "metadata": {},
   "outputs": [
    {
     "data": {
      "text/html": [
       "<div>\n",
       "<style scoped>\n",
       "    .dataframe tbody tr th:only-of-type {\n",
       "        vertical-align: middle;\n",
       "    }\n",
       "\n",
       "    .dataframe tbody tr th {\n",
       "        vertical-align: top;\n",
       "    }\n",
       "\n",
       "    .dataframe thead th {\n",
       "        text-align: right;\n",
       "    }\n",
       "</style>\n",
       "<table border=\"1\" class=\"dataframe\">\n",
       "  <thead>\n",
       "    <tr style=\"text-align: right;\">\n",
       "      <th></th>\n",
       "      <th>ID</th>\n",
       "      <th>Guaranteed_Approved _Loan</th>\n",
       "      <th>ChargedOff_Amount</th>\n",
       "      <th>Loan_Approved_Gross</th>\n",
       "      <th>Gross_Amount_Disbursed</th>\n",
       "      <th>Loan_Term</th>\n",
       "      <th>Primary_Loan_Digit</th>\n",
       "      <th>Business_Existing</th>\n",
       "      <th>Business_New</th>\n",
       "      <th>Low_Documentation_Loan_A</th>\n",
       "      <th>Low_Documentation_Loan_C</th>\n",
       "      <th>Low_Documentation_Loan_No</th>\n",
       "      <th>Low_Documentation_Loan_R</th>\n",
       "      <th>Low_Documentation_Loan_S</th>\n",
       "      <th>Low_Documentation_Loan_Yes</th>\n",
       "      <th>Demography_Undefined</th>\n",
       "      <th>Demography_Urban</th>\n",
       "    </tr>\n",
       "  </thead>\n",
       "  <tbody>\n",
       "    <tr>\n",
       "      <th>79650</th>\n",
       "      <td>79650</td>\n",
       "      <td>2.742421</td>\n",
       "      <td>2.784213</td>\n",
       "      <td>2.786102</td>\n",
       "      <td>2.784404</td>\n",
       "      <td>1.698530</td>\n",
       "      <td>3.123808</td>\n",
       "      <td>1</td>\n",
       "      <td>0</td>\n",
       "      <td>0</td>\n",
       "      <td>0</td>\n",
       "      <td>1</td>\n",
       "      <td>0</td>\n",
       "      <td>0</td>\n",
       "      <td>0</td>\n",
       "      <td>0</td>\n",
       "      <td>1</td>\n",
       "    </tr>\n",
       "    <tr>\n",
       "      <th>65255</th>\n",
       "      <td>65255</td>\n",
       "      <td>2.762034</td>\n",
       "      <td>2.681586</td>\n",
       "      <td>2.772247</td>\n",
       "      <td>2.772247</td>\n",
       "      <td>1.560500</td>\n",
       "      <td>3.159122</td>\n",
       "      <td>0</td>\n",
       "      <td>1</td>\n",
       "      <td>0</td>\n",
       "      <td>0</td>\n",
       "      <td>0</td>\n",
       "      <td>0</td>\n",
       "      <td>0</td>\n",
       "      <td>1</td>\n",
       "      <td>0</td>\n",
       "      <td>1</td>\n",
       "    </tr>\n",
       "    <tr>\n",
       "      <th>30081</th>\n",
       "      <td>30081</td>\n",
       "      <td>2.681586</td>\n",
       "      <td>2.656827</td>\n",
       "      <td>2.727944</td>\n",
       "      <td>2.820916</td>\n",
       "      <td>1.499490</td>\n",
       "      <td>3.101692</td>\n",
       "      <td>1</td>\n",
       "      <td>0</td>\n",
       "      <td>0</td>\n",
       "      <td>0</td>\n",
       "      <td>1</td>\n",
       "      <td>0</td>\n",
       "      <td>0</td>\n",
       "      <td>0</td>\n",
       "      <td>0</td>\n",
       "      <td>1</td>\n",
       "    </tr>\n",
       "    <tr>\n",
       "      <th>88207</th>\n",
       "      <td>88207</td>\n",
       "      <td>2.742421</td>\n",
       "      <td>2.777237</td>\n",
       "      <td>2.786102</td>\n",
       "      <td>2.786102</td>\n",
       "      <td>1.643721</td>\n",
       "      <td>3.128089</td>\n",
       "      <td>1</td>\n",
       "      <td>0</td>\n",
       "      <td>0</td>\n",
       "      <td>0</td>\n",
       "      <td>1</td>\n",
       "      <td>0</td>\n",
       "      <td>0</td>\n",
       "      <td>0</td>\n",
       "      <td>0</td>\n",
       "      <td>1</td>\n",
       "    </tr>\n",
       "    <tr>\n",
       "      <th>74381</th>\n",
       "      <td>74381</td>\n",
       "      <td>2.925205</td>\n",
       "      <td>2.929381</td>\n",
       "      <td>2.940522</td>\n",
       "      <td>2.940522</td>\n",
       "      <td>1.702680</td>\n",
       "      <td>3.127562</td>\n",
       "      <td>1</td>\n",
       "      <td>0</td>\n",
       "      <td>0</td>\n",
       "      <td>0</td>\n",
       "      <td>1</td>\n",
       "      <td>0</td>\n",
       "      <td>0</td>\n",
       "      <td>0</td>\n",
       "      <td>0</td>\n",
       "      <td>1</td>\n",
       "    </tr>\n",
       "  </tbody>\n",
       "</table>\n",
       "</div>"
      ],
      "text/plain": [
       "          ID  Guaranteed_Approved _Loan  ChargedOff_Amount   \\\n",
       "79650  79650                   2.742421            2.784213   \n",
       "65255  65255                   2.762034            2.681586   \n",
       "30081  30081                   2.681586            2.656827   \n",
       "88207  88207                   2.742421            2.777237   \n",
       "74381  74381                   2.925205            2.929381   \n",
       "\n",
       "       Loan_Approved_Gross  Gross_Amount_Disbursed    Loan_Term  \\\n",
       "79650             2.786102                  2.784404   1.698530   \n",
       "65255             2.772247                  2.772247   1.560500   \n",
       "30081             2.727944                  2.820916   1.499490   \n",
       "88207             2.786102                  2.786102   1.643721   \n",
       "74381             2.940522                  2.940522   1.702680   \n",
       "\n",
       "       Primary_Loan_Digit  Business_Existing  Business_New  \\\n",
       "79650            3.123808                  1             0   \n",
       "65255            3.159122                  0             1   \n",
       "30081            3.101692                  1             0   \n",
       "88207            3.128089                  1             0   \n",
       "74381            3.127562                  1             0   \n",
       "\n",
       "       Low_Documentation_Loan_A  Low_Documentation_Loan_C  \\\n",
       "79650                         0                         0   \n",
       "65255                         0                         0   \n",
       "30081                         0                         0   \n",
       "88207                         0                         0   \n",
       "74381                         0                         0   \n",
       "\n",
       "       Low_Documentation_Loan_No  Low_Documentation_Loan_R  \\\n",
       "79650                          1                         0   \n",
       "65255                          0                         0   \n",
       "30081                          1                         0   \n",
       "88207                          1                         0   \n",
       "74381                          1                         0   \n",
       "\n",
       "       Low_Documentation_Loan_S  Low_Documentation_Loan_Yes  \\\n",
       "79650                         0                           0   \n",
       "65255                         0                           1   \n",
       "30081                         0                           0   \n",
       "88207                         0                           0   \n",
       "74381                         0                           0   \n",
       "\n",
       "       Demography_Undefined  Demography_Urban  \n",
       "79650                     0                 1  \n",
       "65255                     0                 1  \n",
       "30081                     0                 1  \n",
       "88207                     0                 1  \n",
       "74381                     0                 1  "
      ]
     },
     "execution_count": 175,
     "metadata": {},
     "output_type": "execute_result"
    }
   ],
   "source": [
    "x_train.head()"
   ]
  },
  {
   "cell_type": "code",
   "execution_count": 176,
   "id": "cf39aefc",
   "metadata": {},
   "outputs": [
    {
     "data": {
      "text/plain": [
       "ID                              int64\n",
       "Guaranteed_Approved _Loan     float64\n",
       "ChargedOff_Amount             float64\n",
       "Loan_Approved_Gross           float64\n",
       "Gross_Amount_Disbursed        float64\n",
       "Loan_Term                     float64\n",
       "Primary_Loan_Digit            float64\n",
       "Business_Existing               uint8\n",
       "Business_New                    uint8\n",
       "Low_Documentation_Loan_A        uint8\n",
       "Low_Documentation_Loan_C        uint8\n",
       "Low_Documentation_Loan_No       uint8\n",
       "Low_Documentation_Loan_R        uint8\n",
       "Low_Documentation_Loan_S        uint8\n",
       "Low_Documentation_Loan_Yes      uint8\n",
       "Demography_Undefined            uint8\n",
       "Demography_Urban                uint8\n",
       "dtype: object"
      ]
     },
     "execution_count": 176,
     "metadata": {},
     "output_type": "execute_result"
    }
   ],
   "source": [
    "x_train.dtypes"
   ]
  },
  {
   "cell_type": "code",
   "execution_count": 177,
   "id": "fd8ca346",
   "metadata": {},
   "outputs": [
    {
     "data": {
      "text/plain": [
       "ID                              int64\n",
       "Guaranteed_Approved _Loan     float64\n",
       "ChargedOff_Amount             float64\n",
       "Loan_Approved_Gross           float64\n",
       "Gross_Amount_Disbursed        float64\n",
       "Loan_Term                     float64\n",
       "Primary_Loan_Digit            float64\n",
       "Business_Existing               int64\n",
       "Business_New                    int64\n",
       "Low_Documentation_Loan_A        int64\n",
       "Low_Documentation_Loan_C        int64\n",
       "Low_Documentation_Loan_No       int64\n",
       "Low_Documentation_Loan_R        int64\n",
       "Low_Documentation_Loan_S        int64\n",
       "Low_Documentation_Loan_Yes      int64\n",
       "Demography_Undefined            int64\n",
       "Demography_Urban                int64\n",
       "Revolving_Credit_Line_Yes       int64\n",
       "dtype: object"
      ]
     },
     "execution_count": 177,
     "metadata": {},
     "output_type": "execute_result"
    }
   ],
   "source": [
    "X_validation.dtypes"
   ]
  },
  {
   "cell_type": "code",
   "execution_count": 178,
   "id": "b9527f61",
   "metadata": {},
   "outputs": [],
   "source": [
    "X_validation=X_validation.drop(['Revolving_Credit_Line_Yes'],axis=1)"
   ]
  },
  {
   "cell_type": "code",
   "execution_count": 179,
   "id": "454afbe6",
   "metadata": {},
   "outputs": [
    {
     "data": {
      "text/plain": [
       "(45000, 17)"
      ]
     },
     "execution_count": 179,
     "metadata": {},
     "output_type": "execute_result"
    }
   ],
   "source": [
    "X_validation.shape"
   ]
  },
  {
   "cell_type": "code",
   "execution_count": 181,
   "id": "4a7e528c",
   "metadata": {},
   "outputs": [
    {
     "data": {
      "text/plain": [
       "(144951, 17)"
      ]
     },
     "execution_count": 181,
     "metadata": {},
     "output_type": "execute_result"
    }
   ],
   "source": [
    "x_train.shape"
   ]
  },
  {
   "cell_type": "markdown",
   "id": "4af81723",
   "metadata": {},
   "source": [
    "# Naive_bayes"
   ]
  },
  {
   "cell_type": "code",
   "execution_count": 182,
   "id": "18a4562f",
   "metadata": {},
   "outputs": [],
   "source": [
    "from sklearn.naive_bayes import GaussianNB\n",
    "from sklearn import metrics"
   ]
  },
  {
   "cell_type": "code",
   "execution_count": 183,
   "id": "940a9b4b",
   "metadata": {},
   "outputs": [
    {
     "data": {
      "text/plain": [
       "GaussianNB()"
      ]
     },
     "execution_count": 183,
     "metadata": {},
     "output_type": "execute_result"
    }
   ],
   "source": [
    "NB_model=GaussianNB()\n",
    "NB_model.fit(x_train, y_train)"
   ]
  },
  {
   "cell_type": "code",
   "execution_count": 184,
   "id": "252ba489",
   "metadata": {},
   "outputs": [
    {
     "name": "stdout",
     "output_type": "stream",
     "text": [
      "0.9950190064228601\n",
      "[[52620   331]\n",
      " [  391 91609]]\n",
      "              precision    recall  f1-score   support\n",
      "\n",
      "           0       0.99      0.99      0.99     52951\n",
      "           1       1.00      1.00      1.00     92000\n",
      "\n",
      "    accuracy                           1.00    144951\n",
      "   macro avg       0.99      0.99      0.99    144951\n",
      "weighted avg       1.00      1.00      1.00    144951\n",
      "\n"
     ]
    }
   ],
   "source": [
    "y_train_predict=NB_model.predict(x_train)\n",
    "model_score=NB_model.score(x_train, y_train)\n",
    "print(model_score)\n",
    "print(metrics.confusion_matrix(y_train,y_train_predict))\n",
    "\n",
    "print(metrics.classification_report(y_train,y_train_predict))"
   ]
  },
  {
   "cell_type": "code",
   "execution_count": 185,
   "id": "1dd7309f",
   "metadata": {},
   "outputs": [
    {
     "name": "stdout",
     "output_type": "stream",
     "text": [
      "0.994237146260584\n",
      "[[22771   174]\n",
      " [  184 38993]]\n",
      "              precision    recall  f1-score   support\n",
      "\n",
      "           0       0.99      0.99      0.99     22945\n",
      "           1       1.00      1.00      1.00     39177\n",
      "\n",
      "    accuracy                           0.99     62122\n",
      "   macro avg       0.99      0.99      0.99     62122\n",
      "weighted avg       0.99      0.99      0.99     62122\n",
      "\n"
     ]
    }
   ],
   "source": [
    "y_test_predict=NB_model.predict(x_test)\n",
    "model_score=NB_model.score(x_test, y_test)\n",
    "print(model_score)\n",
    "print(metrics.confusion_matrix(y_test,y_test_predict))\n",
    "\n",
    "print(metrics.classification_report(y_test,y_test_predict))"
   ]
  },
  {
   "cell_type": "markdown",
   "id": "bfa8d0c3",
   "metadata": {},
   "source": [
    "# Logistic Regression"
   ]
  },
  {
   "cell_type": "code",
   "execution_count": 186,
   "id": "aff167f5",
   "metadata": {},
   "outputs": [],
   "source": [
    "from sklearn.linear_model import LogisticRegression"
   ]
  },
  {
   "cell_type": "code",
   "execution_count": 187,
   "id": "dcbde2fd",
   "metadata": {},
   "outputs": [
    {
     "name": "stderr",
     "output_type": "stream",
     "text": [
      "[Parallel(n_jobs=2)]: Using backend LokyBackend with 2 concurrent workers.\n",
      "[Parallel(n_jobs=2)]: Done   1 out of   1 | elapsed:  1.1min finished\n"
     ]
    },
    {
     "data": {
      "text/plain": [
       "LogisticRegression(max_iter=10000, n_jobs=2, penalty='none', solver='newton-cg',\n",
       "                   verbose=True)"
      ]
     },
     "execution_count": 187,
     "metadata": {},
     "output_type": "execute_result"
    }
   ],
   "source": [
    "Logistic_model = LogisticRegression(solver='newton-cg',max_iter=10000,penalty='none',verbose=True,n_jobs=2)\n",
    "Logistic_model.fit(x_train, y_train)"
   ]
  },
  {
   "cell_type": "code",
   "execution_count": 188,
   "id": "920f401e",
   "metadata": {},
   "outputs": [
    {
     "name": "stdout",
     "output_type": "stream",
     "text": [
      "0.9950190064228601\n",
      "[[52620   331]\n",
      " [  391 91609]]\n",
      "              precision    recall  f1-score   support\n",
      "\n",
      "           0       0.99      0.99      0.99     52951\n",
      "           1       1.00      1.00      1.00     92000\n",
      "\n",
      "    accuracy                           1.00    144951\n",
      "   macro avg       0.99      0.99      0.99    144951\n",
      "weighted avg       1.00      1.00      1.00    144951\n",
      "\n"
     ]
    }
   ],
   "source": [
    "y_train_predict=Logistic_model.predict(x_train)\n",
    "Logistic_model_score=Logistic_model.score(x_train,y_train)\n",
    "print(Logistic_model_score)\n",
    "\n",
    "print(metrics.confusion_matrix(y_train,y_train_predict))\n",
    "print(metrics.classification_report(y_train,y_train_predict))"
   ]
  },
  {
   "cell_type": "code",
   "execution_count": 189,
   "id": "e40a0ca2",
   "metadata": {},
   "outputs": [
    {
     "data": {
      "text/html": [
       "<div>\n",
       "<style scoped>\n",
       "    .dataframe tbody tr th:only-of-type {\n",
       "        vertical-align: middle;\n",
       "    }\n",
       "\n",
       "    .dataframe tbody tr th {\n",
       "        vertical-align: top;\n",
       "    }\n",
       "\n",
       "    .dataframe thead th {\n",
       "        text-align: right;\n",
       "    }\n",
       "</style>\n",
       "<table border=\"1\" class=\"dataframe\">\n",
       "  <thead>\n",
       "    <tr style=\"text-align: right;\">\n",
       "      <th></th>\n",
       "      <th>0</th>\n",
       "      <th>1</th>\n",
       "    </tr>\n",
       "  </thead>\n",
       "  <tbody>\n",
       "    <tr>\n",
       "      <th>0</th>\n",
       "      <td>0.003386</td>\n",
       "      <td>0.996614</td>\n",
       "    </tr>\n",
       "    <tr>\n",
       "      <th>1</th>\n",
       "      <td>0.007985</td>\n",
       "      <td>0.992015</td>\n",
       "    </tr>\n",
       "    <tr>\n",
       "      <th>2</th>\n",
       "      <td>0.002684</td>\n",
       "      <td>0.997316</td>\n",
       "    </tr>\n",
       "    <tr>\n",
       "      <th>3</th>\n",
       "      <td>0.003160</td>\n",
       "      <td>0.996840</td>\n",
       "    </tr>\n",
       "    <tr>\n",
       "      <th>4</th>\n",
       "      <td>0.000559</td>\n",
       "      <td>0.999441</td>\n",
       "    </tr>\n",
       "  </tbody>\n",
       "</table>\n",
       "</div>"
      ],
      "text/plain": [
       "          0         1\n",
       "0  0.003386  0.996614\n",
       "1  0.007985  0.992015\n",
       "2  0.002684  0.997316\n",
       "3  0.003160  0.996840\n",
       "4  0.000559  0.999441"
      ]
     },
     "execution_count": 189,
     "metadata": {},
     "output_type": "execute_result"
    }
   ],
   "source": [
    "y_train_prob=Logistic_model.predict_proba(x_train)\n",
    "pd.DataFrame(y_train_prob).head()"
   ]
  },
  {
   "cell_type": "markdown",
   "id": "201bbeff",
   "metadata": {},
   "source": [
    "# Bagging"
   ]
  },
  {
   "cell_type": "code",
   "execution_count": 190,
   "id": "f203f705",
   "metadata": {},
   "outputs": [],
   "source": [
    "from sklearn.ensemble import BaggingClassifier\n",
    "from sklearn.tree import DecisionTreeClassifier"
   ]
  },
  {
   "cell_type": "code",
   "execution_count": 191,
   "id": "f0e6bd92",
   "metadata": {},
   "outputs": [
    {
     "data": {
      "text/plain": [
       "BaggingClassifier(base_estimator=DecisionTreeClassifier(), random_state=1)"
      ]
     },
     "execution_count": 191,
     "metadata": {},
     "output_type": "execute_result"
    }
   ],
   "source": [
    "cart=DecisionTreeClassifier()\n",
    "Bagging_model=BaggingClassifier(base_estimator=cart,n_estimators=10, random_state=1)\n",
    "\n",
    "Bagging_model.fit(x_train,y_train)"
   ]
  },
  {
   "cell_type": "code",
   "execution_count": 192,
   "id": "6558eed7",
   "metadata": {},
   "outputs": [
    {
     "name": "stdout",
     "output_type": "stream",
     "text": [
      "0.9997102469110251\n",
      "[[52914    37]\n",
      " [    5 91995]]\n",
      "              precision    recall  f1-score   support\n",
      "\n",
      "           0       1.00      1.00      1.00     52951\n",
      "           1       1.00      1.00      1.00     92000\n",
      "\n",
      "    accuracy                           1.00    144951\n",
      "   macro avg       1.00      1.00      1.00    144951\n",
      "weighted avg       1.00      1.00      1.00    144951\n",
      "\n"
     ]
    }
   ],
   "source": [
    "y_train_predict=Bagging_model.predict(x_train)\n",
    "Bagging_model_score=Bagging_model.score(x_train,y_train)\n",
    "print(Bagging_model_score)\n",
    "\n",
    "print(metrics.confusion_matrix(y_train,y_train_predict))\n",
    "print(metrics.classification_report(y_train,y_train_predict))"
   ]
  },
  {
   "cell_type": "code",
   "execution_count": 193,
   "id": "382f75d0",
   "metadata": {},
   "outputs": [
    {
     "name": "stdout",
     "output_type": "stream",
     "text": [
      "0.9997102469110251\n"
     ]
    }
   ],
   "source": [
    "submission_predictions=Bagging_model.predict(X_validation)\n",
    "print(Bagging_model_score)"
   ]
  },
  {
   "cell_type": "code",
   "execution_count": 194,
   "id": "16881b96",
   "metadata": {},
   "outputs": [],
   "source": [
    "submission_predictions =Bagging_model.predict(X_validation)"
   ]
  },
  {
   "cell_type": "code",
   "execution_count": 195,
   "id": "e0ad1e8e",
   "metadata": {},
   "outputs": [],
   "source": [
    "submission = pd.DataFrame({\n",
    "        \"ID\": X_validation[\"ID\"],\n",
    "        \"Default\": submission_predictions\n",
    "    })\n",
    "\n"
   ]
  },
  {
   "cell_type": "code",
   "execution_count": 196,
   "id": "008a57e5",
   "metadata": {},
   "outputs": [
    {
     "data": {
      "text/html": [
       "<div>\n",
       "<style scoped>\n",
       "    .dataframe tbody tr th:only-of-type {\n",
       "        vertical-align: middle;\n",
       "    }\n",
       "\n",
       "    .dataframe tbody tr th {\n",
       "        vertical-align: top;\n",
       "    }\n",
       "\n",
       "    .dataframe thead th {\n",
       "        text-align: right;\n",
       "    }\n",
       "</style>\n",
       "<table border=\"1\" class=\"dataframe\">\n",
       "  <thead>\n",
       "    <tr style=\"text-align: right;\">\n",
       "      <th></th>\n",
       "      <th>ID</th>\n",
       "      <th>Default</th>\n",
       "    </tr>\n",
       "  </thead>\n",
       "  <tbody>\n",
       "    <tr>\n",
       "      <th>0</th>\n",
       "      <td>105000</td>\n",
       "      <td>1</td>\n",
       "    </tr>\n",
       "    <tr>\n",
       "      <th>1</th>\n",
       "      <td>105001</td>\n",
       "      <td>0</td>\n",
       "    </tr>\n",
       "    <tr>\n",
       "      <th>2</th>\n",
       "      <td>105002</td>\n",
       "      <td>1</td>\n",
       "    </tr>\n",
       "    <tr>\n",
       "      <th>3</th>\n",
       "      <td>105003</td>\n",
       "      <td>0</td>\n",
       "    </tr>\n",
       "    <tr>\n",
       "      <th>4</th>\n",
       "      <td>105004</td>\n",
       "      <td>0</td>\n",
       "    </tr>\n",
       "    <tr>\n",
       "      <th>...</th>\n",
       "      <td>...</td>\n",
       "      <td>...</td>\n",
       "    </tr>\n",
       "    <tr>\n",
       "      <th>44995</th>\n",
       "      <td>149995</td>\n",
       "      <td>1</td>\n",
       "    </tr>\n",
       "    <tr>\n",
       "      <th>44996</th>\n",
       "      <td>149996</td>\n",
       "      <td>0</td>\n",
       "    </tr>\n",
       "    <tr>\n",
       "      <th>44997</th>\n",
       "      <td>149997</td>\n",
       "      <td>0</td>\n",
       "    </tr>\n",
       "    <tr>\n",
       "      <th>44998</th>\n",
       "      <td>149998</td>\n",
       "      <td>0</td>\n",
       "    </tr>\n",
       "    <tr>\n",
       "      <th>44999</th>\n",
       "      <td>149999</td>\n",
       "      <td>0</td>\n",
       "    </tr>\n",
       "  </tbody>\n",
       "</table>\n",
       "<p>45000 rows × 2 columns</p>\n",
       "</div>"
      ],
      "text/plain": [
       "           ID  Default\n",
       "0      105000        1\n",
       "1      105001        0\n",
       "2      105002        1\n",
       "3      105003        0\n",
       "4      105004        0\n",
       "...       ...      ...\n",
       "44995  149995        1\n",
       "44996  149996        0\n",
       "44997  149997        0\n",
       "44998  149998        0\n",
       "44999  149999        0\n",
       "\n",
       "[45000 rows x 2 columns]"
      ]
     },
     "execution_count": 196,
     "metadata": {},
     "output_type": "execute_result"
    }
   ],
   "source": [
    "submission"
   ]
  },
  {
   "cell_type": "code",
   "execution_count": 197,
   "id": "ebc089d8",
   "metadata": {},
   "outputs": [],
   "source": [
    "submission.to_csv(r'C:\\Users\\Arun Sivaji\\project\\Loan_Prediction-1.csv', index=False, header=True)"
   ]
  },
  {
   "cell_type": "markdown",
   "id": "9a51f435",
   "metadata": {},
   "source": [
    "# Boosting"
   ]
  },
  {
   "cell_type": "code",
   "execution_count": 198,
   "id": "474d455e",
   "metadata": {},
   "outputs": [],
   "source": [
    "from sklearn.ensemble import AdaBoostClassifier"
   ]
  },
  {
   "cell_type": "code",
   "execution_count": 199,
   "id": "260170ce",
   "metadata": {},
   "outputs": [
    {
     "data": {
      "text/plain": [
       "AdaBoostClassifier(n_estimators=100, random_state=1)"
      ]
     },
     "execution_count": 199,
     "metadata": {},
     "output_type": "execute_result"
    }
   ],
   "source": [
    "ADB_model=AdaBoostClassifier(n_estimators=100,random_state=1)\n",
    "ADB_model.fit(x_train,y_train)"
   ]
  },
  {
   "cell_type": "code",
   "execution_count": 200,
   "id": "fca55f0a",
   "metadata": {},
   "outputs": [
    {
     "name": "stdout",
     "output_type": "stream",
     "text": [
      "0.9950259053059309\n",
      "[[52621   330]\n",
      " [  391 91609]]\n",
      "              precision    recall  f1-score   support\n",
      "\n",
      "           0       0.99      0.99      0.99     52951\n",
      "           1       1.00      1.00      1.00     92000\n",
      "\n",
      "    accuracy                           1.00    144951\n",
      "   macro avg       0.99      0.99      0.99    144951\n",
      "weighted avg       1.00      1.00      1.00    144951\n",
      "\n"
     ]
    }
   ],
   "source": [
    "y_train_predict=ADB_model.predict(x_train)\n",
    "ADB_model_score=ADB_model.score(x_train,y_train)\n",
    "print(ADB_model_score)\n",
    "\n",
    "print(metrics.confusion_matrix(y_train,y_train_predict))\n",
    "print(metrics.classification_report(y_train,y_train_predict))"
   ]
  },
  {
   "cell_type": "code",
   "execution_count": 202,
   "id": "897f3aec",
   "metadata": {},
   "outputs": [],
   "source": [
    "submission_prediction_2=ADB_model.predict(X_validation)"
   ]
  },
  {
   "cell_type": "code",
   "execution_count": 203,
   "id": "3f31fd56",
   "metadata": {},
   "outputs": [],
   "source": [
    "submission_2= pd.DataFrame({\n",
    "        \"ID\": X_validation[\"ID\"],\n",
    "        \"Default\": submission_predictions\n",
    "    })\n"
   ]
  },
  {
   "cell_type": "code",
   "execution_count": 204,
   "id": "d53ca0c8",
   "metadata": {},
   "outputs": [],
   "source": [
    "submission_2.to_csv(r'C:\\Users\\Arun Sivaji\\project\\Loan_Prediction-2.csv', index=False, header=True)"
   ]
  },
  {
   "cell_type": "code",
   "execution_count": 205,
   "id": "1a2fd6ff",
   "metadata": {},
   "outputs": [
    {
     "data": {
      "text/plain": [
       "GradientBoostingClassifier(random_state=1)"
      ]
     },
     "execution_count": 205,
     "metadata": {},
     "output_type": "execute_result"
    }
   ],
   "source": [
    "from sklearn.ensemble import GradientBoostingClassifier\n",
    "gbc_model=GradientBoostingClassifier(random_state=1)\n",
    "gbc_model.fit(x_train, y_train)"
   ]
  },
  {
   "cell_type": "code",
   "execution_count": 206,
   "id": "992876cd",
   "metadata": {},
   "outputs": [
    {
     "name": "stdout",
     "output_type": "stream",
     "text": [
      "0.9954881304716766\n",
      "[[52643   308]\n",
      " [  346 91654]]\n",
      "              precision    recall  f1-score   support\n",
      "\n",
      "           0       0.99      0.99      0.99     52951\n",
      "           1       1.00      1.00      1.00     92000\n",
      "\n",
      "    accuracy                           1.00    144951\n",
      "   macro avg       1.00      1.00      1.00    144951\n",
      "weighted avg       1.00      1.00      1.00    144951\n",
      "\n"
     ]
    }
   ],
   "source": [
    "y_train_predict = gbc_model.predict(x_train)\n",
    "gbc_model_score = gbc_model.score(x_train, y_train)\n",
    "print(gbc_model_score)\n",
    "print(metrics.confusion_matrix(y_train, y_train_predict))\n",
    "print(metrics.classification_report(y_train, y_train_predict))"
   ]
  },
  {
   "cell_type": "code",
   "execution_count": 207,
   "id": "287561ff",
   "metadata": {},
   "outputs": [],
   "source": [
    "submission_prediction_3=ADB_model.predict(X_validation)"
   ]
  },
  {
   "cell_type": "code",
   "execution_count": 208,
   "id": "bf6fd603",
   "metadata": {},
   "outputs": [],
   "source": [
    "submission_3= pd.DataFrame({\n",
    "        \"ID\": X_validation[\"ID\"],\n",
    "        \"Default\": submission_predictions\n",
    "    })\n"
   ]
  },
  {
   "cell_type": "code",
   "execution_count": 209,
   "id": "7fb8189e",
   "metadata": {},
   "outputs": [],
   "source": [
    "submission_3.to_csv(r'C:\\Users\\Arun Sivaji\\project\\Loan_Prediction-3.csv', index=False, header=True)"
   ]
  },
  {
   "cell_type": "code",
   "execution_count": null,
   "id": "00258cbc",
   "metadata": {},
   "outputs": [],
   "source": []
  }
 ],
 "metadata": {
  "kernelspec": {
   "display_name": "Python 3",
   "language": "python",
   "name": "python3"
  },
  "language_info": {
   "codemirror_mode": {
    "name": "ipython",
    "version": 3
   },
   "file_extension": ".py",
   "mimetype": "text/x-python",
   "name": "python",
   "nbconvert_exporter": "python",
   "pygments_lexer": "ipython3",
   "version": "3.8.8"
  }
 },
 "nbformat": 4,
 "nbformat_minor": 5
}
